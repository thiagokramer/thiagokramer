{
 "cells": [
  {
   "cell_type": "code",
   "execution_count": 2,
   "metadata": {},
   "outputs": [],
   "source": [
    "import pandas as pd\n",
    "import numpy as np\n",
    "import seaborn as sns\n",
    "import re\n",
    "import os\n",
    "import matplotlib.pyplot as plt"
   ]
  },
  {
   "cell_type": "code",
   "execution_count": null,
   "metadata": {},
   "outputs": [],
   "source": [
    "df = pd.read_csv(r'C:\\Users\\ThinkPad\\Downloads\\vacinados.csv', sep=';')\n",
    "df.info()"
   ]
  },
  {
   "cell_type": "code",
   "execution_count": null,
   "metadata": {},
   "outputs": [],
   "source": [
    "# Selecionando amostra de 1500 linhas\n",
    "vac = df.sample(n=1500, random_state=2)"
   ]
  },
  {
   "cell_type": "code",
   "execution_count": null,
   "metadata": {},
   "outputs": [],
   "source": [
    "# Limpando valores nulos e únicos\n",
    "vac.isnull().sum()\n",
    "vac.nunique()"
   ]
  },
  {
   "cell_type": "code",
   "execution_count": null,
   "metadata": {},
   "outputs": [],
   "source": [
    "# Transformando coluna com o mês de vacinação em datetime\n",
    "\n",
    "vac['data_vacinacao'] = pd.to_datetime(vac['data_vacinacao'])"
   ]
  },
  {
   "cell_type": "code",
   "execution_count": null,
   "metadata": {},
   "outputs": [],
   "source": [
    "vac.sort_values(by='data_vacinacao', inplace=True)\n",
    "data = vac.groupby('data_vacinacao').count().cumsum()\n",
    "plt.figure(figsize=(12,9))\n",
    "plt.plot(data)\n",
    "plt.title('Progressão vacinal ao longo dos meses', fontsize=18)\n",
    "plt.xlabel('Meses', fontsize=12)\n",
    "plt.ylabel('Mil doses', fontsize=12)\n",
    "plt.xticks(rotation=45)\n",
    "plt.show()\n",
    "\n",
    "# Data Vis\n",
    "# 1. Progressão temporal de indivíduos vacinados;\n",
    "# 2. Progressão temporal de indivíduos vacinados por grupo;\n",
    "# 3. Locais de vacinação mais frequentes;\n",
    "# 4. Grupos de vacinação mais frequentes;\n",
    "\n",
    "# Código vai aqui"
   ]
  },
  {
   "cell_type": "code",
   "execution_count": null,
   "metadata": {},
   "outputs": [],
   "source": [
    "# 1 Existe alguma correlação do tipo de vacina vs. o grupo do individuo? (por ex: Moradores de rua tomaram um tipo específico de vacina?)\n",
    "\n",
    "# Código vai aqui"
   ]
  },
  {
   "cell_type": "code",
   "execution_count": null,
   "metadata": {},
   "outputs": [],
   "source": [
    "# 2 Existe alguma tipo de relação do tipo de vacina vs. quando ela foi administrada? (por ex: as vacinas administradas mudaram ao longo do tempo?)\n",
    "\n",
    "# Código vai aqui"
   ]
  },
  {
   "cell_type": "code",
   "execution_count": null,
   "metadata": {},
   "outputs": [],
   "source": [
    "# 3 Existe alguma relação da progressão temporal da vacinação com o sexo? (por ex: mulheres se vacinam antes que os homens?)\n",
    "\n",
    "# Código vai aqui"
   ]
  }
 ],
 "metadata": {
  "kernelspec": {
   "display_name": "Python 3.10.4 64-bit",
   "language": "python",
   "name": "python3"
  },
  "language_info": {
   "codemirror_mode": {
    "name": "ipython",
    "version": 3
   },
   "file_extension": ".py",
   "mimetype": "text/x-python",
   "name": "python",
   "nbconvert_exporter": "python",
   "pygments_lexer": "ipython3",
   "version": "3.10.4"
  },
  "orig_nbformat": 4,
  "vscode": {
   "interpreter": {
    "hash": "aff46a3acd3684deb058af6e72ec19ab373f2dfd3a09ff0764b1d216bde1cae5"
   }
  }
 },
 "nbformat": 4,
 "nbformat_minor": 2
}
