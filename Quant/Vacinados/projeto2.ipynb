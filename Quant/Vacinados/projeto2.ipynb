{
 "cells": [
  {
   "cell_type": "code",
   "execution_count": 1,
   "metadata": {},
   "outputs": [],
   "source": [
    "import pandas as pd\n",
    "import numpy as np\n",
    "import seaborn as sns\n",
    "import re\n",
    "import os\n",
    "import matplotlib.pyplot as plt"
   ]
  },
  {
   "cell_type": "code",
   "execution_count": 2,
   "metadata": {},
   "outputs": [
    {
     "name": "stdout",
     "output_type": "stream",
     "text": [
      "<class 'pandas.core.frame.DataFrame'>\n",
      "RangeIndex: 3407298 entries, 0 to 3407297\n",
      "Data columns (total 9 columns):\n",
      " #   Column           Dtype  \n",
      "---  ------           -----  \n",
      " 0   cpf              object \n",
      " 1   nome             object \n",
      " 2   sexo             object \n",
      " 3   grupo            object \n",
      " 4   vacina           object \n",
      " 5   lote             object \n",
      " 6   dose             float64\n",
      " 7   data_vacinacao   object \n",
      " 8   local_vacinacao  object \n",
      "dtypes: float64(1), object(8)\n",
      "memory usage: 234.0+ MB\n"
     ]
    }
   ],
   "source": [
    "df = pd.read_csv(r'C:\\Users\\ThinkPad\\Downloads\\vacinados.csv', sep=';')\n",
    "df.info()"
   ]
  },
  {
   "cell_type": "code",
   "execution_count": 3,
   "metadata": {},
   "outputs": [],
   "source": [
    "# Selecionando amostra de 1500 linhas\n",
    "vac = df.sample(n=1500, random_state=2)"
   ]
  },
  {
   "cell_type": "code",
   "execution_count": 4,
   "metadata": {},
   "outputs": [
    {
     "data": {
      "text/plain": [
       "cpf                1487\n",
       "nome               1496\n",
       "sexo                  3\n",
       "grupo                21\n",
       "vacina                6\n",
       "lote                127\n",
       "dose                  4\n",
       "data_vacinacao      364\n",
       "local_vacinacao      75\n",
       "dtype: int64"
      ]
     },
     "execution_count": 4,
     "metadata": {},
     "output_type": "execute_result"
    }
   ],
   "source": [
    "# Limpando valores nulos e únicos\n",
    "vac.isnull().sum()\n",
    "vac.nunique()"
   ]
  },
  {
   "cell_type": "code",
   "execution_count": 5,
   "metadata": {},
   "outputs": [],
   "source": [
    "# Transformando coluna com o mês de vacinação em datetime\n",
    "\n",
    "vac['data_vacinacao'] = pd.to_datetime(vac['data_vacinacao'])"
   ]
  },
  {
   "cell_type": "code",
   "execution_count": 21,
   "metadata": {},
   "outputs": [
    {
     "data": {
      "text/html": [
       "<div>\n",
       "<style scoped>\n",
       "    .dataframe tbody tr th:only-of-type {\n",
       "        vertical-align: middle;\n",
       "    }\n",
       "\n",
       "    .dataframe tbody tr th {\n",
       "        vertical-align: top;\n",
       "    }\n",
       "\n",
       "    .dataframe thead th {\n",
       "        text-align: right;\n",
       "    }\n",
       "</style>\n",
       "<table border=\"1\" class=\"dataframe\">\n",
       "  <thead>\n",
       "    <tr style=\"text-align: right;\">\n",
       "      <th></th>\n",
       "      <th>cpf</th>\n",
       "      <th>nome</th>\n",
       "      <th>sexo</th>\n",
       "      <th>grupo</th>\n",
       "      <th>vacina</th>\n",
       "      <th>lote</th>\n",
       "      <th>dose</th>\n",
       "      <th>local_vacinacao</th>\n",
       "    </tr>\n",
       "    <tr>\n",
       "      <th>data_vacinacao</th>\n",
       "      <th></th>\n",
       "      <th></th>\n",
       "      <th></th>\n",
       "      <th></th>\n",
       "      <th></th>\n",
       "      <th></th>\n",
       "      <th></th>\n",
       "      <th></th>\n",
       "    </tr>\n",
       "  </thead>\n",
       "  <tbody>\n",
       "    <tr>\n",
       "      <th>2021-01-20</th>\n",
       "      <td>1</td>\n",
       "      <td>1</td>\n",
       "      <td>1</td>\n",
       "      <td>1</td>\n",
       "      <td>1</td>\n",
       "      <td>1</td>\n",
       "      <td>1</td>\n",
       "      <td>1</td>\n",
       "    </tr>\n",
       "    <tr>\n",
       "      <th>2021-01-22</th>\n",
       "      <td>2</td>\n",
       "      <td>2</td>\n",
       "      <td>2</td>\n",
       "      <td>2</td>\n",
       "      <td>2</td>\n",
       "      <td>2</td>\n",
       "      <td>2</td>\n",
       "      <td>2</td>\n",
       "    </tr>\n",
       "    <tr>\n",
       "      <th>2021-01-25</th>\n",
       "      <td>4</td>\n",
       "      <td>4</td>\n",
       "      <td>4</td>\n",
       "      <td>4</td>\n",
       "      <td>4</td>\n",
       "      <td>4</td>\n",
       "      <td>4</td>\n",
       "      <td>4</td>\n",
       "    </tr>\n",
       "    <tr>\n",
       "      <th>2021-01-28</th>\n",
       "      <td>5</td>\n",
       "      <td>5</td>\n",
       "      <td>5</td>\n",
       "      <td>5</td>\n",
       "      <td>5</td>\n",
       "      <td>5</td>\n",
       "      <td>5</td>\n",
       "      <td>5</td>\n",
       "    </tr>\n",
       "    <tr>\n",
       "      <th>2021-01-29</th>\n",
       "      <td>7</td>\n",
       "      <td>7</td>\n",
       "      <td>7</td>\n",
       "      <td>7</td>\n",
       "      <td>7</td>\n",
       "      <td>7</td>\n",
       "      <td>7</td>\n",
       "      <td>7</td>\n",
       "    </tr>\n",
       "  </tbody>\n",
       "</table>\n",
       "</div>"
      ],
      "text/plain": [
       "                cpf  nome  sexo  grupo  vacina  lote  dose  local_vacinacao\n",
       "data_vacinacao                                                             \n",
       "2021-01-20        1     1     1      1       1     1     1                1\n",
       "2021-01-22        2     2     2      2       2     2     2                2\n",
       "2021-01-25        4     4     4      4       4     4     4                4\n",
       "2021-01-28        5     5     5      5       5     5     5                5\n",
       "2021-01-29        7     7     7      7       7     7     7                7"
      ]
     },
     "execution_count": 21,
     "metadata": {},
     "output_type": "execute_result"
    }
   ],
   "source": [
    "# Feature Statistics\n",
    "\n",
    "vac.sort_values(by='data_vacinacao', inplace=True)\n",
    "doses = vac.groupby('data_vacinacao').count().cumsum()\n",
    "\n",
    "dose1 = vac.loc[vac['dose'] == 1]\n",
    "dose1 = dose1.groupby('data_vacinacao').count().cumsum()\n",
    "\n"
   ]
  },
  {
   "cell_type": "code",
   "execution_count": 23,
   "metadata": {},
   "outputs": [
    {
     "data": {
      "text/plain": [
       "Text(0, 0.5, 'Mil Doses')"
      ]
     },
     "execution_count": 23,
     "metadata": {},
     "output_type": "execute_result"
    },
    {
     "data": {
      "image/png": "[encoded data removed]",
      "text/plain": [
       "<Figure size 1440x720 with 9 Axes>"
      ]
     },
     "metadata": {
      "needs_background": "light"
     },
     "output_type": "display_data"
    }
   ],
   "source": [
    "fig, axs = plt.subplots(3, 3, figsize = (20,10))\n",
    "axs[0, 0].plot(doses)\n",
    "axs[0, 0].set_title('Progressão Vacinal')\n",
    "axs[0, 0].set_ylabel('Mil Doses')\n",
    "\n",
    "axs[0, 1].plot(dose1)\n",
    "axs[0, 1].set_title('Primeiras Doses')\n",
    "axs[0, 1].set_ylabel('Mil Doses')\n"
   ]
  },
  {
   "cell_type": "code",
   "execution_count": null,
   "metadata": {},
   "outputs": [],
   "source": [
    "vac.sort_values(by='data_vacinacao', inplace=True)\n",
    "data = vac.groupby('data_vacinacao').count().cumsum()\n",
    "plt.figure(figsize=(12,9))\n",
    "plt.plot(data)\n",
    "plt.title('Progressão vacinal ao longo dos meses', fontsize=18)\n",
    "plt.xlabel('Meses', fontsize=12)\n",
    "plt.ylabel('Mil doses', fontsize=12)\n",
    "plt.xticks(rotation=45)\n",
    "plt.show()\n",
    "\n",
    "# Data Vis\n",
    "# 1. Progressão temporal de indivíduos vacinados;\n",
    "# 2. Progressão temporal de indivíduos vacinados por grupo;\n",
    "# 3. Locais de vacinação mais frequentes;\n",
    "# 4. Grupos de vacinação mais frequentes;\n",
    "\n",
    "# Código vai aqui"
   ]
  },
  {
   "cell_type": "code",
   "execution_count": null,
   "metadata": {},
   "outputs": [],
   "source": [
    "# 1 Existe alguma correlação do tipo de vacina vs. o grupo do individuo? (por ex: Moradores de rua tomaram um tipo específico de vacina?)\n",
    "\n",
    "# Código vai aqui"
   ]
  },
  {
   "cell_type": "code",
   "execution_count": null,
   "metadata": {},
   "outputs": [],
   "source": [
    "# 2 Existe alguma tipo de relação do tipo de vacina vs. quando ela foi administrada? (por ex: as vacinas administradas mudaram ao longo do tempo?)\n",
    "\n",
    "# Código vai aqui"
   ]
  },
  {
   "cell_type": "code",
   "execution_count": null,
   "metadata": {},
   "outputs": [],
   "source": [
    "# 3 Existe alguma relação da progressão temporal da vacinação com o sexo? (por ex: mulheres se vacinam antes que os homens?)\n",
    "\n",
    "# Código vai aqui"
   ]
  }
 ],
 "metadata": {
  "kernelspec": {
   "display_name": "Python 3.10.4 64-bit",
   "language": "python",
   "name": "python3"
  },
  "language_info": {
   "codemirror_mode": {
    "name": "ipython",
    "version": 3
   },
   "file_extension": ".py",
   "mimetype": "text/x-python",
   "name": "python",
   "nbconvert_exporter": "python",
   "pygments_lexer": "ipython3",
   "version": "3.10.4"
  },
  "orig_nbformat": 4,
  "vscode": {
   "interpreter": {
    "hash": "aff46a3acd3684deb058af6e72ec19ab373f2dfd3a09ff0764b1d216bde1cae5"
   }
  }
 },
 "nbformat": 4,
 "nbformat_minor": 2
}
