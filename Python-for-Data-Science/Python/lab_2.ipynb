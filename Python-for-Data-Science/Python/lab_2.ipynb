{
 "cells": [
  {
   "cell_type": "markdown",
   "metadata": {},
   "source": [
    "# Lab 2\n",
    "\n",
    "Answer the exercises or complete the tasks outlined in bold, using the specific method described if applicable."
   ]
  },
  {
   "cell_type": "markdown",
   "metadata": {},
   "source": [
    "#### EXERCISE 1: String drills\n",
    "*Objective: Consolidate string manipulation, converting between data types where needed, using .format(), and not crashing due to quote mark issues.*\n",
    "\n",
    "\n",
    "**1a: Combine these four variables into a single string and print it.**"
   ]
  },
  {
   "cell_type": "code",
   "execution_count": 2,
   "metadata": {},
   "outputs": [],
   "source": [
    "a = 'Welcome to '\n",
    "b = 'Python class '\n",
    "c = 'lab '\n",
    "d = 2"
   ]
  },
  {
   "cell_type": "code",
   "execution_count": 4,
   "metadata": {},
   "outputs": [
    {
     "name": "stdout",
     "output_type": "stream",
     "text": [
      "Welcome to Python class lab 2\n"
     ]
    }
   ],
   "source": [
    "# YOUR CODE HERE\n",
    "\n",
    "print(a+b+c+str(d))"
   ]
  },
  {
   "cell_type": "markdown",
   "metadata": {},
   "source": [
    "**1b: Print `pi` to seven decimal places.**"
   ]
  },
  {
   "cell_type": "code",
   "execution_count": 7,
   "metadata": {},
   "outputs": [
    {
     "name": "stdout",
     "output_type": "stream",
     "text": [
      "3.1415929\n"
     ]
    }
   ],
   "source": [
    "# YOUR CODE HERE:\n",
    "\n",
    "pi_approx = 355/113\n",
    "\n",
    "print('%.7f' % pi_approx)\n"
   ]
  },
  {
   "cell_type": "markdown",
   "metadata": {},
   "source": [
    "**1c: Print both of the following:**\n",
    "\n",
    "    Nick says \"hello\"\n",
    "    This is Dharana's sandwich"
   ]
  },
  {
   "cell_type": "code",
   "execution_count": 9,
   "metadata": {
    "scrolled": true
   },
   "outputs": [
    {
     "name": "stdout",
     "output_type": "stream",
     "text": [
      "Nick says \"hello\"\n",
      "This is Dharana's sandwich\n"
     ]
    }
   ],
   "source": [
    "# YOUR CODE HERE: \n",
    "\n",
    "print('Nick says \"hello\"')\n",
    "print(\"This is Dharana's sandwich\")"
   ]
  },
  {
   "cell_type": "markdown",
   "metadata": {},
   "source": [
    "#### EXERCISE 2: Tourist agency\n",
    "*Objective: Iterate through lists, use string formatting.*\n",
    "\n",
    "Write a program to print \"Welcome to beautiful {country}!\" for each country in the list."
   ]
  },
  {
   "cell_type": "code",
   "execution_count": 10,
   "metadata": {},
   "outputs": [],
   "source": [
    "country_list = ['Kazakhstan','Kenya', 'Kiribati', \"Korea (DPRK)\", 'Korea (ROC)', 'Kosovo', 'Kuwait', 'Kyrgyzstan']"
   ]
  },
  {
   "cell_type": "code",
   "execution_count": 11,
   "metadata": {},
   "outputs": [
    {
     "name": "stdout",
     "output_type": "stream",
     "text": [
      "Welcome to beautiful Kazakhstan\n",
      "Welcome to beautiful Kenya\n",
      "Welcome to beautiful Kiribati\n",
      "Welcome to beautiful Korea (DPRK)\n",
      "Welcome to beautiful Korea (ROC)\n",
      "Welcome to beautiful Kosovo\n",
      "Welcome to beautiful Kuwait\n",
      "Welcome to beautiful Kyrgyzstan\n"
     ]
    }
   ],
   "source": [
    "# YOUR CODE HERE:\n",
    "\n",
    "for x in country_list:\n",
    "    print('Welcome to beautiful {}'.format(x))"
   ]
  },
  {
   "cell_type": "markdown",
   "metadata": {},
   "source": [
    "#### EXERCISE 3: Quick brown fox\n",
    "**Split the string below into a list of words, then:**\n",
    "* print only the second to fifth items in the list\n",
    "* count the items in the list\n",
    "* replace \"dog\" with \"dinosaur\""
   ]
  },
  {
   "cell_type": "code",
   "execution_count": 19,
   "metadata": {},
   "outputs": [
    {
     "name": "stdout",
     "output_type": "stream",
     "text": [
      "['quick', 'brown', 'fox', 'jumps']\n",
      "Length of the list: 9\n"
     ]
    },
    {
     "data": {
      "text/plain": [
       "['The', 'quick', 'brown', 'fox', 'jumps', 'over', 'the', 'lazy', 'dinossaur']"
      ]
     },
     "execution_count": 19,
     "metadata": {},
     "output_type": "execute_result"
    }
   ],
   "source": [
    "rhyme = \"The quick brown fox jumps over the lazy dog\"\n",
    "\n",
    "# YOUR CODE HERE:\n",
    "\n",
    "li = rhyme.split()\n",
    "print(li[1:5])\n",
    "print('Length of the list:', len(li))\n",
    "\n",
    "for i in range(len(li)):\n",
    "    if li[i] == 'dog':\n",
    "        li[i] = 'dinossaur'\n",
    "li"
   ]
  },
  {
   "cell_type": "markdown",
   "metadata": {},
   "source": [
    "#### EXERCISE 4: Tangled lists\n",
    "\n",
    "*Objective: Navigate a set of lists nested inside lists, use square bracket indexing, use list comprehensions.*\n",
    "\n",
    "Given this nested list, grab the word dragon:"
   ]
  },
  {
   "cell_type": "code",
   "execution_count": 22,
   "metadata": {},
   "outputs": [],
   "source": [
    "my_list = [0,4,[4,3,2],[420, 250, [1,2,3,'dragon']],365,23,6]"
   ]
  },
  {
   "cell_type": "code",
   "execution_count": 25,
   "metadata": {},
   "outputs": [
    {
     "data": {
      "text/plain": [
       "'dragon'"
      ]
     },
     "execution_count": 25,
     "metadata": {},
     "output_type": "execute_result"
    }
   ],
   "source": [
    "my_list[3][2][3]"
   ]
  },
  {
   "cell_type": "markdown",
   "metadata": {},
   "source": [
    "Convert the following list from strings to integers:"
   ]
  },
  {
   "cell_type": "code",
   "execution_count": 27,
   "metadata": {},
   "outputs": [
    {
     "data": {
      "text/plain": [
       "int"
      ]
     },
     "execution_count": 27,
     "metadata": {},
     "output_type": "execute_result"
    }
   ],
   "source": [
    "# YOUR CODE HERE:\n",
    "\n",
    "ZIP_list = ['10009','20009','20022','20034','90210']\n",
    "\n",
    "for x in range(len(ZIP_list)):\n",
    "    ZIP_list[x] = int(ZIP_list[x])\n"
   ]
  },
  {
   "cell_type": "markdown",
   "metadata": {},
   "source": [
    "#### EXERCISE 5: Prime numbers\n",
    "*Objective: Combine loops, logic conditions and math operations.*"
   ]
  },
  {
   "cell_type": "markdown",
   "metadata": {},
   "source": [
    "Write a program to loop from 1 to 100 and print all the prime numbers"
   ]
  },
  {
   "cell_type": "code",
   "execution_count": 58,
   "metadata": {},
   "outputs": [
    {
     "name": "stdout",
     "output_type": "stream",
     "text": [
      "[1, 2, 3, 5, 7, 11, 13, 17, 19, 23, 29, 31, 37, 41, 43, 47, 53, 59, 61, 67, 71, 73, 79, 83, 89, 97]\n"
     ]
    }
   ],
   "source": [
    "# YOUR CODE HERE:\n",
    "range(1,101)\n",
    "\n",
    "for "
   ]
  },
  {
   "cell_type": "markdown",
   "metadata": {},
   "source": [
    "#### EXERCISE 6: List comprehensions\n",
    "Use list comprehensions to do the following:\n",
    "* 6a. List all numbers from 1 to 1000 that are divisible by 12.\n",
    "* 6b. List all the holiday destinations that are less than 7 characters long."
   ]
  },
  {
   "cell_type": "code",
   "execution_count": 1,
   "metadata": {},
   "outputs": [],
   "source": [
    "# YOUR CODE HERE\n",
    "\n",
    "holiday_destinations = ['maine','cornwall','ibiza','florida','bali','bognor regis']"
   ]
  },
  {
   "cell_type": "markdown",
   "metadata": {},
   "source": [
    "#### EXERCISE 7: Phone directory\n",
    "*Objective: Use a list comprehension and list methods.*\n",
    "\n",
    "Take a list of names, and get them in phone directory order (\"first name, last name\", in alphabetical order):"
   ]
  },
  {
   "cell_type": "code",
   "execution_count": 45,
   "metadata": {},
   "outputs": [
    {
     "data": {
      "text/plain": [
       "['Bergman, Ingrid', 'Gorbachev, Mikhail', 'Lennon, John', 'Williams, Serena']"
      ]
     },
     "execution_count": 45,
     "metadata": {},
     "output_type": "execute_result"
    }
   ],
   "source": [
    "names = ['John Lennon', 'Serena Williams', 'Ingrid Bergman', 'Mikhail Gorbachev']\n"
   ]
  }
 ],
 "metadata": {
  "kernelspec": {
   "display_name": "Python 3.10.4 64-bit",
   "language": "python",
   "name": "python3"
  },
  "language_info": {
   "codemirror_mode": {
    "name": "ipython",
    "version": 3
   },
   "file_extension": ".py",
   "mimetype": "text/x-python",
   "name": "python",
   "nbconvert_exporter": "python",
   "pygments_lexer": "ipython3",
   "version": "3.10.4"
  },
  "vscode": {
   "interpreter": {
    "hash": "aff46a3acd3684deb058af6e72ec19ab373f2dfd3a09ff0764b1d216bde1cae5"
   }
  }
 },
 "nbformat": 4,
 "nbformat_minor": 2
}
