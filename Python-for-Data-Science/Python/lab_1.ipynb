{
 "cells": [
  {
   "cell_type": "markdown",
   "metadata": {},
   "source": [
    "# Python for Data Science - Lab 1\n",
    "Work through the following exercises. Get through as many as you can in the time allotted.\n",
    "The box lists additional Python functionality that may help you.\n",
    "\n",
    "| Task | Python function |\n",
    "|----|----|\n",
    "| Import the code library 'random' | import random |\n",
    "| Generate random numbers | random.randint() |\n",
    "| Prompt the user for some text | my_variable = input() |\n"
   ]
  },
  {
   "cell_type": "markdown",
   "metadata": {},
   "source": [
    "#### EXERCISE 1: Too many donuts?\n",
    "*Objective: handle strings and integers, test conditions*\n",
    "\n",
    "Write a program that will:\n",
    "1. Define a variable 'donuts_eaten'.\n",
    "2. Print a string of the form 'Donuts consumed: `<count>`'. However if 10 or more donuts were eaten, then use the word 'many' instead of the actual count."
   ]
  },
  {
   "cell_type": "code",
   "execution_count": 8,
   "metadata": {},
   "outputs": [
    {
     "name": "stdout",
     "output_type": "stream",
     "text": [
      "many\n"
     ]
    }
   ],
   "source": [
    "# YOUR CODE HERE:\n",
    "\n",
    "donuts_eaten = input('How many donuts did you eat?')\n",
    "donuts_eaten = int(donuts_eaten)\n",
    "\n",
    "if donuts_eaten > 9:\n",
    "    print('many')\n",
    "else:\n",
    "    print(donuts_eaten)"
   ]
  },
  {
   "cell_type": "markdown",
   "metadata": {},
   "source": [
    "#### EXERCISE 2a: Age calculator\n",
    "*Objective: Define variables, do basic math, convert data types*\n",
    "    \n",
    "Write a program that will:\n",
    "1. Define a variable 'birth_year'\n",
    "2. Define a variable 'current_year'\n",
    "3. Calculate the person's age from these two\n",
    "4. Print the output in format (\"You are x years old.\")"
   ]
  },
  {
   "cell_type": "code",
   "execution_count": 11,
   "metadata": {},
   "outputs": [
    {
     "name": "stdout",
     "output_type": "stream",
     "text": [
      "You are 27 years old\n"
     ]
    }
   ],
   "source": [
    "# YOUR CODE HERE:\n",
    "\n",
    "from datetime import date\n",
    "\n",
    "birth_year = input(\"What's your birth year?\")\n",
    "birth_year = int(birth_year)\n",
    "current_year = date.today().year\n",
    "\n",
    "print('You are {} years old'.format(current_year - birth_year))"
   ]
  },
  {
   "cell_type": "markdown",
   "metadata": {},
   "source": [
    "#### EXERCISE 2b: Premier League salaries\n",
    "*Objective: Define variables, do math, use conditional logic.*\n",
    "\n",
    "1. Define two variables, player_name (a string), and annual_salary (an integer).\n",
    "2. Assume there are 38 game days. Print a neat string saying your player's name and how much they earn (a) per month; and (b) per game day. \n",
    "3. Now define a Boolean variable championship_winners.\n",
    "4. Test whether championship_winners is True, and if so, print your output again but with a 33% bonus.\n",
    "\n",
    "**BONUS POINTS**: limit the salary to two decimal points when printing it."
   ]
  },
  {
   "cell_type": "code",
   "execution_count": 13,
   "metadata": {},
   "outputs": [
    {
     "name": "stdout",
     "output_type": "stream",
     "text": [
      "Ronaldo earns 3712917.0 a month and 1172500.0 per game day\n"
     ]
    }
   ],
   "source": [
    "# YOUR CODE HERE:\n",
    "\n",
    "player_name = 'Ronaldo'\n",
    "annual_salary = 33500000\n",
    "days_in_season = 38\n",
    "championship_winners = True\n",
    "\n",
    "if championship_winners == True:\n",
    "    annual_salary *= 1.33\n",
    "\n",
    "print('{} earns {} a month and {} per game day'.format(player_name, round(annual_salary/12,0), round(annual_salary/38,0)))\n"
   ]
  },
  {
   "cell_type": "markdown",
   "metadata": {},
   "source": [
    "#### EXERCISE 3: Dog's dinner\n",
    "*Objective: Practice string manipulation*\n",
    "\n",
    "1. Define two strings, a and b.\n",
    "2. Your program should return a single string with a and b separated by a space, except swap the first 2 chars of each string.\n",
    "* eg. 'dog', 'dinner' -> 'dig donner'\n"
   ]
  },
  {
   "cell_type": "code",
   "execution_count": null,
   "metadata": {},
   "outputs": [],
   "source": [
    "# YOUR CODE HERE:\n",
    "\n",
    "a = \n",
    "b = "
   ]
  },
  {
   "cell_type": "markdown",
   "metadata": {},
   "source": [
    "#### EXERCISE 4: Higher or lower?\n",
    "*Objective: Test conditions, use a counter.*\n",
    "\n",
    "Write a program to:\n",
    "1. Generate a random number (kept secret from the user).\n",
    "2. Prompt the user \"Guess a number\" and record their input.\n",
    "3. Tell them if they were correct, too high, or too low.\n",
    "\n",
    "BONUS POINTS: limit the number of guesses to 5."
   ]
  },
  {
   "cell_type": "code",
   "execution_count": 21,
   "metadata": {},
   "outputs": [
    {
     "name": "stdout",
     "output_type": "stream",
     "text": [
      "Wrong number\n",
      "Wrong number\n",
      "Wrong number\n",
      "Wrong number\n",
      "Wrong number\n",
      "Wrong number\n",
      "You guessed wrong too many times!\n"
     ]
    }
   ],
   "source": [
    "# YOUR CODE HERE:\n",
    "\n",
    "from random import randint\n",
    "\n",
    "x = randint(0,10)\n",
    "guess = -1\n",
    "i = 0\n",
    "\n",
    "while guess != x and i < 6:\n",
    "    guess = int(input('Guess a number:'))\n",
    "    if guess == x:\n",
    "        print('Congrats, you guessed right!')\n",
    "        break\n",
    "    else:\n",
    "        print('Wrong number')\n",
    "    i += 1\n",
    "\n",
    "if guess != x:\n",
    "    print('You guessed wrong too many times!') \n"
   ]
  },
  {
   "cell_type": "markdown",
   "metadata": {},
   "source": [
    "#### EXERCISE 5: FizzBuzz\n",
    "*Objective: Get a job at Amazon! (they use it in software engineer interviews)*\n",
    "\n",
    "Write a script to:\n",
    "\n",
    "* Print out the numbers from 1 to 20 but replacing numbers with 'Fizz' if divisible by 3, 'Buzz' if divisible by '5', and 'FizzBuzz' if divisible by 3 and 5.\n",
    "\n",
    "Hint: the 'mod' operator, denoted %, is used to check divisibility. Example: 10 % 2 == 0."
   ]
  },
  {
   "cell_type": "code",
   "execution_count": 24,
   "metadata": {},
   "outputs": [
    {
     "name": "stdout",
     "output_type": "stream",
     "text": [
      "1\n",
      "2\n",
      "Fizz\n",
      "4\n",
      "Buzz\n",
      "Fizz\n",
      "7\n",
      "8\n",
      "Fizz\n",
      "Buzz\n",
      "11\n",
      "Fizz\n",
      "13\n",
      "14\n",
      "FizzBuzz\n",
      "16\n",
      "17\n",
      "Fizz\n",
      "19\n",
      "Buzz\n"
     ]
    }
   ],
   "source": [
    "# YOUR CODE HERE:\n",
    "\n",
    "x = range(1,21)\n",
    "\n",
    "for n in x:\n",
    "    if n % 3 == 0 and n % 5 == 0:\n",
    "        print('FizzBuzz')\n",
    "    elif n % 3 == 0:\n",
    "        print('Fizz')\n",
    "    elif n % 5 == 0:\n",
    "        print('Buzz')\n",
    "    else:\n",
    "        print(n)"
   ]
  }
 ],
 "metadata": {
  "kernelspec": {
   "display_name": "Python 3.10.4 64-bit",
   "language": "python",
   "name": "python3"
  },
  "language_info": {
   "codemirror_mode": {
    "name": "ipython",
    "version": 3
   },
   "file_extension": ".py",
   "mimetype": "text/x-python",
   "name": "python",
   "nbconvert_exporter": "python",
   "pygments_lexer": "ipython3",
   "version": "3.10.4"
  },
  "vscode": {
   "interpreter": {
    "hash": "aff46a3acd3684deb058af6e72ec19ab373f2dfd3a09ff0764b1d216bde1cae5"
   }
  }
 },
 "nbformat": 4,
 "nbformat_minor": 2
}
