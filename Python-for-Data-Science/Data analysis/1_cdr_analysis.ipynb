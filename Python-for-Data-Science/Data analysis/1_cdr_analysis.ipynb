{
 "cells": [
  {
   "cell_type": "code",
   "execution_count": 1,
   "metadata": {},
   "outputs": [],
   "source": [
    "import pandas as pd\n",
    "import numpy as np\n",
    "import datetime\n",
    "import time\n",
    "\n",
    "import matplotlib.pyplot as plt\n",
    "from matplotlib import dates as ds\n",
    "plt.style.use('ggplot')\n",
    "%matplotlib inline\n",
    "\n",
    "import warnings\n",
    "warnings.filterwarnings('ignore')"
   ]
  },
  {
   "cell_type": "markdown",
   "metadata": {},
   "source": [
    "### Read in datasets as dataframes"
   ]
  },
  {
   "cell_type": "code",
   "execution_count": 2,
   "metadata": {},
   "outputs": [],
   "source": [
    "cdr = pd.read_csv(\"https://raw.githubusercontent.com/worldbank/Python-for-Data-Science/master/July_2019_Poverty_GP/day_4/cdr_flowminder_data/cdr.csv\")\n",
    "locations = pd.read_csv(\"https://raw.githubusercontent.com/worldbank/Python-for-Data-Science/master/July_2019_Poverty_GP/day_4/cdr_flowminder_data/locations.csv\")"
   ]
  },
  {
   "cell_type": "code",
   "execution_count": 4,
   "metadata": {},
   "outputs": [
    {
     "data": {
      "text/html": [
       "<div>\n",
       "<style scoped>\n",
       "    .dataframe tbody tr th:only-of-type {\n",
       "        vertical-align: middle;\n",
       "    }\n",
       "\n",
       "    .dataframe tbody tr th {\n",
       "        vertical-align: top;\n",
       "    }\n",
       "\n",
       "    .dataframe thead th {\n",
       "        text-align: right;\n",
       "    }\n",
       "</style>\n",
       "<table border=\"1\" class=\"dataframe\">\n",
       "  <thead>\n",
       "    <tr style=\"text-align: right;\">\n",
       "      <th></th>\n",
       "      <th>subscriber_id</th>\n",
       "      <th>date</th>\n",
       "      <th>time</th>\n",
       "      <th>location_id</th>\n",
       "      <th>outgoing</th>\n",
       "    </tr>\n",
       "  </thead>\n",
       "  <tbody>\n",
       "    <tr>\n",
       "      <th>0</th>\n",
       "      <td>05B835LA29</td>\n",
       "      <td>2016-05-01</td>\n",
       "      <td>22:17:24</td>\n",
       "      <td>0</td>\n",
       "      <td>False</td>\n",
       "    </tr>\n",
       "    <tr>\n",
       "      <th>1</th>\n",
       "      <td>05B835LA29</td>\n",
       "      <td>2016-05-01</td>\n",
       "      <td>22:17:24</td>\n",
       "      <td>2</td>\n",
       "      <td>False</td>\n",
       "    </tr>\n",
       "    <tr>\n",
       "      <th>2</th>\n",
       "      <td>05B835LA29</td>\n",
       "      <td>2016-05-01</td>\n",
       "      <td>22:17:24</td>\n",
       "      <td>3</td>\n",
       "      <td>False</td>\n",
       "    </tr>\n",
       "    <tr>\n",
       "      <th>3</th>\n",
       "      <td>05B835LA29</td>\n",
       "      <td>2016-05-25</td>\n",
       "      <td>18:18:22</td>\n",
       "      <td>0</td>\n",
       "      <td>True</td>\n",
       "    </tr>\n",
       "    <tr>\n",
       "      <th>4</th>\n",
       "      <td>05B835LA29</td>\n",
       "      <td>2016-05-25</td>\n",
       "      <td>18:18:22</td>\n",
       "      <td>2</td>\n",
       "      <td>True</td>\n",
       "    </tr>\n",
       "  </tbody>\n",
       "</table>\n",
       "</div>"
      ],
      "text/plain": [
       "  subscriber_id        date      time  location_id  outgoing\n",
       "0    05B835LA29  2016-05-01  22:17:24            0     False\n",
       "1    05B835LA29  2016-05-01  22:17:24            2     False\n",
       "2    05B835LA29  2016-05-01  22:17:24            3     False\n",
       "3    05B835LA29  2016-05-25  18:18:22            0      True\n",
       "4    05B835LA29  2016-05-25  18:18:22            2      True"
      ]
     },
     "execution_count": 4,
     "metadata": {},
     "output_type": "execute_result"
    }
   ],
   "source": [
    "# Display the first five observations of the cdr dataframe \n",
    "\n",
    "# YOUR CODE HERE\n",
    "cdr.head()"
   ]
  },
  {
   "cell_type": "code",
   "execution_count": 5,
   "metadata": {},
   "outputs": [
    {
     "data": {
      "text/plain": [
       "(1742, 5)"
      ]
     },
     "execution_count": 5,
     "metadata": {},
     "output_type": "execute_result"
    }
   ],
   "source": [
    "# How many observations do we have in the cdr dataframe?\n",
    "\n",
    "# YOUR CODE HERE \n",
    "\n",
    "cdr.shape"
   ]
  },
  {
   "cell_type": "code",
   "execution_count": 4,
   "metadata": {},
   "outputs": [
    {
     "data": {
      "text/html": [
       "<div>\n",
       "<style scoped>\n",
       "    .dataframe tbody tr th:only-of-type {\n",
       "        vertical-align: middle;\n",
       "    }\n",
       "\n",
       "    .dataframe tbody tr th {\n",
       "        vertical-align: top;\n",
       "    }\n",
       "\n",
       "    .dataframe thead th {\n",
       "        text-align: right;\n",
       "    }\n",
       "</style>\n",
       "<table border=\"1\" class=\"dataframe\">\n",
       "  <thead>\n",
       "    <tr style=\"text-align: right;\">\n",
       "      <th></th>\n",
       "      <th>location_id</th>\n",
       "      <th>lon</th>\n",
       "      <th>lat</th>\n",
       "      <th>admin1</th>\n",
       "      <th>admin2</th>\n",
       "      <th>admin3</th>\n",
       "    </tr>\n",
       "  </thead>\n",
       "  <tbody>\n",
       "    <tr>\n",
       "      <th>0</th>\n",
       "      <td>0</td>\n",
       "      <td>-63.08445</td>\n",
       "      <td>21.310360</td>\n",
       "      <td>Southern</td>\n",
       "      <td>Epsilon</td>\n",
       "      <td>Colaco</td>\n",
       "    </tr>\n",
       "    <tr>\n",
       "      <th>1</th>\n",
       "      <td>1</td>\n",
       "      <td>-62.99838</td>\n",
       "      <td>21.290370</td>\n",
       "      <td>Eastern</td>\n",
       "      <td>Omega</td>\n",
       "      <td>Almendra</td>\n",
       "    </tr>\n",
       "    <tr>\n",
       "      <th>2</th>\n",
       "      <td>2</td>\n",
       "      <td>-63.08755</td>\n",
       "      <td>21.318560</td>\n",
       "      <td>Southern</td>\n",
       "      <td>Epsilon</td>\n",
       "      <td>Colaco</td>\n",
       "    </tr>\n",
       "    <tr>\n",
       "      <th>3</th>\n",
       "      <td>3</td>\n",
       "      <td>-63.08885</td>\n",
       "      <td>21.339860</td>\n",
       "      <td>Southern</td>\n",
       "      <td>Epsilon</td>\n",
       "      <td>Colaco</td>\n",
       "    </tr>\n",
       "    <tr>\n",
       "      <th>4</th>\n",
       "      <td>4</td>\n",
       "      <td>-62.25713</td>\n",
       "      <td>21.496287</td>\n",
       "      <td>Western</td>\n",
       "      <td>Beta</td>\n",
       "      <td>Arbol</td>\n",
       "    </tr>\n",
       "  </tbody>\n",
       "</table>\n",
       "</div>"
      ],
      "text/plain": [
       "   location_id       lon        lat    admin1   admin2    admin3\n",
       "0            0 -63.08445  21.310360  Southern  Epsilon    Colaco\n",
       "1            1 -62.99838  21.290370   Eastern    Omega  Almendra\n",
       "2            2 -63.08755  21.318560  Southern  Epsilon    Colaco\n",
       "3            3 -63.08885  21.339860  Southern  Epsilon    Colaco\n",
       "4            4 -62.25713  21.496287   Western     Beta     Arbol"
      ]
     },
     "execution_count": 4,
     "metadata": {},
     "output_type": "execute_result"
    }
   ],
   "source": [
    "# Display the first five observations of the locations dataframe\n",
    "\n",
    "# YOUR CODE HERE"
   ]
  },
  {
   "cell_type": "code",
   "execution_count": 8,
   "metadata": {},
   "outputs": [
    {
     "data": {
      "text/plain": [
       "(87, 6)"
      ]
     },
     "execution_count": 8,
     "metadata": {},
     "output_type": "execute_result"
    }
   ],
   "source": [
    "# How many observations do we have in the locations dataframe? \n",
    "\n",
    "# YOUR CODE HERE \n"
   ]
  },
  {
   "cell_type": "markdown",
   "metadata": {},
   "source": [
    "### Join the datasets together to map locations to each call"
   ]
  },
  {
   "cell_type": "code",
   "execution_count": 6,
   "metadata": {},
   "outputs": [],
   "source": [
    "# https://pandas.pydata.org/pandas-docs/stable/reference/api/pandas.DataFrame.merge.html \n",
    "\n",
    "# Edit the code below to join the dataframes\n",
    "\n",
    "df = cdr.merge(locations, on='location_id', how='inner')"
   ]
  },
  {
   "cell_type": "code",
   "execution_count": 8,
   "metadata": {},
   "outputs": [
    {
     "data": {
      "text/html": [
       "<div>\n",
       "<style scoped>\n",
       "    .dataframe tbody tr th:only-of-type {\n",
       "        vertical-align: middle;\n",
       "    }\n",
       "\n",
       "    .dataframe tbody tr th {\n",
       "        vertical-align: top;\n",
       "    }\n",
       "\n",
       "    .dataframe thead th {\n",
       "        text-align: right;\n",
       "    }\n",
       "</style>\n",
       "<table border=\"1\" class=\"dataframe\">\n",
       "  <thead>\n",
       "    <tr style=\"text-align: right;\">\n",
       "      <th></th>\n",
       "      <th>subscriber_id</th>\n",
       "      <th>date</th>\n",
       "      <th>time</th>\n",
       "      <th>location_id</th>\n",
       "      <th>outgoing</th>\n",
       "      <th>lon</th>\n",
       "      <th>lat</th>\n",
       "      <th>admin1</th>\n",
       "      <th>admin2</th>\n",
       "      <th>admin3</th>\n",
       "    </tr>\n",
       "  </thead>\n",
       "  <tbody>\n",
       "    <tr>\n",
       "      <th>0</th>\n",
       "      <td>05B835LA29</td>\n",
       "      <td>2016-05-01</td>\n",
       "      <td>22:17:24</td>\n",
       "      <td>0</td>\n",
       "      <td>False</td>\n",
       "      <td>-63.08445</td>\n",
       "      <td>21.31036</td>\n",
       "      <td>Southern</td>\n",
       "      <td>Epsilon</td>\n",
       "      <td>Colaco</td>\n",
       "    </tr>\n",
       "    <tr>\n",
       "      <th>1</th>\n",
       "      <td>05B835LA29</td>\n",
       "      <td>2016-05-25</td>\n",
       "      <td>18:18:22</td>\n",
       "      <td>0</td>\n",
       "      <td>True</td>\n",
       "      <td>-63.08445</td>\n",
       "      <td>21.31036</td>\n",
       "      <td>Southern</td>\n",
       "      <td>Epsilon</td>\n",
       "      <td>Colaco</td>\n",
       "    </tr>\n",
       "    <tr>\n",
       "      <th>2</th>\n",
       "      <td>05B835LA29</td>\n",
       "      <td>2016-05-16</td>\n",
       "      <td>14:40:50</td>\n",
       "      <td>0</td>\n",
       "      <td>False</td>\n",
       "      <td>-63.08445</td>\n",
       "      <td>21.31036</td>\n",
       "      <td>Southern</td>\n",
       "      <td>Epsilon</td>\n",
       "      <td>Colaco</td>\n",
       "    </tr>\n",
       "    <tr>\n",
       "      <th>3</th>\n",
       "      <td>05B835LA29</td>\n",
       "      <td>2016-05-16</td>\n",
       "      <td>08:50:57</td>\n",
       "      <td>0</td>\n",
       "      <td>False</td>\n",
       "      <td>-63.08445</td>\n",
       "      <td>21.31036</td>\n",
       "      <td>Southern</td>\n",
       "      <td>Epsilon</td>\n",
       "      <td>Colaco</td>\n",
       "    </tr>\n",
       "    <tr>\n",
       "      <th>4</th>\n",
       "      <td>05B835LA29</td>\n",
       "      <td>2016-05-24</td>\n",
       "      <td>06:30:36</td>\n",
       "      <td>0</td>\n",
       "      <td>False</td>\n",
       "      <td>-63.08445</td>\n",
       "      <td>21.31036</td>\n",
       "      <td>Southern</td>\n",
       "      <td>Epsilon</td>\n",
       "      <td>Colaco</td>\n",
       "    </tr>\n",
       "  </tbody>\n",
       "</table>\n",
       "</div>"
      ],
      "text/plain": [
       "  subscriber_id        date      time  location_id  outgoing       lon  \\\n",
       "0    05B835LA29  2016-05-01  22:17:24            0     False -63.08445   \n",
       "1    05B835LA29  2016-05-25  18:18:22            0      True -63.08445   \n",
       "2    05B835LA29  2016-05-16  14:40:50            0     False -63.08445   \n",
       "3    05B835LA29  2016-05-16  08:50:57            0     False -63.08445   \n",
       "4    05B835LA29  2016-05-24  06:30:36            0     False -63.08445   \n",
       "\n",
       "        lat    admin1   admin2  admin3  \n",
       "0  21.31036  Southern  Epsilon  Colaco  \n",
       "1  21.31036  Southern  Epsilon  Colaco  \n",
       "2  21.31036  Southern  Epsilon  Colaco  \n",
       "3  21.31036  Southern  Epsilon  Colaco  \n",
       "4  21.31036  Southern  Epsilon  Colaco  "
      ]
     },
     "execution_count": 8,
     "metadata": {},
     "output_type": "execute_result"
    }
   ],
   "source": [
    "# Display the first five rows to make sure the two dataframes (cdr and locations) are merged\n",
    "\n",
    "# Notice that we now have 10 columns\n",
    "\n",
    "df.head()"
   ]
  },
  {
   "cell_type": "markdown",
   "metadata": {},
   "source": [
    "### How many subscribers in dataset?"
   ]
  },
  {
   "cell_type": "code",
   "execution_count": 9,
   "metadata": {},
   "outputs": [
    {
     "data": {
      "text/plain": [
       "3"
      ]
     },
     "execution_count": 9,
     "metadata": {},
     "output_type": "execute_result"
    }
   ],
   "source": [
    "# Hint: Use .nunique()\n",
    "# https://pandas.pydata.org/pandas-docs/stable/reference/api/pandas.DataFrame.nunique.html \n",
    "\n",
    "#YOUR CODE HERE\n",
    "\n",
    "df.subscriber_id.nunique()"
   ]
  },
  {
   "cell_type": "markdown",
   "metadata": {},
   "source": [
    "### What is the time period of the dataset?"
   ]
  },
  {
   "cell_type": "code",
   "execution_count": 12,
   "metadata": {},
   "outputs": [
    {
     "data": {
      "text/plain": [
       "('2016-05-01', '2016-05-30')"
      ]
     },
     "execution_count": 12,
     "metadata": {},
     "output_type": "execute_result"
    }
   ],
   "source": [
    "# Hint: Use .max() .min()\n",
    "\n",
    "#YOUR CODE HERE\n",
    "\n",
    "df.date.min(), df.date.max()"
   ]
  },
  {
   "cell_type": "markdown",
   "metadata": {},
   "source": [
    "### How many locations has each subscriber been seen at?"
   ]
  },
  {
   "cell_type": "code",
   "execution_count": 16,
   "metadata": {},
   "outputs": [
    {
     "data": {
      "text/html": [
       "<div>\n",
       "<style scoped>\n",
       "    .dataframe tbody tr th:only-of-type {\n",
       "        vertical-align: middle;\n",
       "    }\n",
       "\n",
       "    .dataframe tbody tr th {\n",
       "        vertical-align: top;\n",
       "    }\n",
       "\n",
       "    .dataframe thead th {\n",
       "        text-align: right;\n",
       "    }\n",
       "</style>\n",
       "<table border=\"1\" class=\"dataframe\">\n",
       "  <thead>\n",
       "    <tr style=\"text-align: right;\">\n",
       "      <th></th>\n",
       "      <th>date</th>\n",
       "      <th>time</th>\n",
       "      <th>location_id</th>\n",
       "      <th>outgoing</th>\n",
       "      <th>lon</th>\n",
       "      <th>lat</th>\n",
       "      <th>admin1</th>\n",
       "      <th>admin2</th>\n",
       "      <th>admin3</th>\n",
       "    </tr>\n",
       "    <tr>\n",
       "      <th>subscriber_id</th>\n",
       "      <th></th>\n",
       "      <th></th>\n",
       "      <th></th>\n",
       "      <th></th>\n",
       "      <th></th>\n",
       "      <th></th>\n",
       "      <th></th>\n",
       "      <th></th>\n",
       "      <th></th>\n",
       "    </tr>\n",
       "  </thead>\n",
       "  <tbody>\n",
       "    <tr>\n",
       "      <th>016C400K3S</th>\n",
       "      <td>740</td>\n",
       "      <td>740</td>\n",
       "      <td>740</td>\n",
       "      <td>740</td>\n",
       "      <td>740</td>\n",
       "      <td>740</td>\n",
       "      <td>740</td>\n",
       "      <td>740</td>\n",
       "      <td>740</td>\n",
       "    </tr>\n",
       "    <tr>\n",
       "      <th>022D513G64</th>\n",
       "      <td>668</td>\n",
       "      <td>668</td>\n",
       "      <td>668</td>\n",
       "      <td>668</td>\n",
       "      <td>668</td>\n",
       "      <td>668</td>\n",
       "      <td>668</td>\n",
       "      <td>668</td>\n",
       "      <td>668</td>\n",
       "    </tr>\n",
       "    <tr>\n",
       "      <th>05B835LA29</th>\n",
       "      <td>334</td>\n",
       "      <td>334</td>\n",
       "      <td>334</td>\n",
       "      <td>334</td>\n",
       "      <td>334</td>\n",
       "      <td>334</td>\n",
       "      <td>334</td>\n",
       "      <td>334</td>\n",
       "      <td>334</td>\n",
       "    </tr>\n",
       "  </tbody>\n",
       "</table>\n",
       "</div>"
      ],
      "text/plain": [
       "               date  time  location_id  outgoing  lon  lat  admin1  admin2  \\\n",
       "subscriber_id                                                                \n",
       "016C400K3S      740   740          740       740  740  740     740     740   \n",
       "022D513G64      668   668          668       668  668  668     668     668   \n",
       "05B835LA29      334   334          334       334  334  334     334     334   \n",
       "\n",
       "               admin3  \n",
       "subscriber_id          \n",
       "016C400K3S        740  \n",
       "022D513G64        668  \n",
       "05B835LA29        334  "
      ]
     },
     "execution_count": 16,
     "metadata": {},
     "output_type": "execute_result"
    }
   ],
   "source": [
    "# Cell towers per subscriber\n",
    "\n",
    "# Use df.groupby() \n",
    "# Always a good idea to Google if you don't know how: \n",
    "# https://pandas.pydata.org/pandas-docs/stable/reference/api/pandas.DataFrame.groupby.html\n",
    "\n",
    "df.groupby('subscriber_id').count()"
   ]
  },
  {
   "cell_type": "code",
   "execution_count": 20,
   "metadata": {},
   "outputs": [
    {
     "data": {
      "text/plain": [
       "subscriber_id\n",
       "016C400K3S    6\n",
       "022D513G64    9\n",
       "05B835LA29    2\n",
       "Name: admin3, dtype: int64"
      ]
     },
     "execution_count": 20,
     "metadata": {},
     "output_type": "execute_result"
    }
   ],
   "source": [
    "# Admin3 regions per subscriber\n"
   ]
  },
  {
   "cell_type": "code",
   "execution_count": 21,
   "metadata": {},
   "outputs": [
    {
     "data": {
      "text/plain": [
       "subscriber_id\n",
       "016C400K3S    4\n",
       "022D513G64    5\n",
       "05B835LA29    2\n",
       "Name: admin2, dtype: int64"
      ]
     },
     "execution_count": 21,
     "metadata": {},
     "output_type": "execute_result"
    }
   ],
   "source": [
    "# Admin2 regions per subscriber\n"
   ]
  },
  {
   "cell_type": "code",
   "execution_count": 22,
   "metadata": {},
   "outputs": [
    {
     "data": {
      "text/plain": [
       "subscriber_id\n",
       "016C400K3S    1\n",
       "022D513G64    1\n",
       "05B835LA29    2\n",
       "Name: admin1, dtype: int64"
      ]
     },
     "execution_count": 22,
     "metadata": {},
     "output_type": "execute_result"
    }
   ],
   "source": [
    "# Admin1 regions per subscriber\n"
   ]
  },
  {
   "cell_type": "markdown",
   "metadata": {},
   "source": [
    "### Maximum cell towers / regions visited in a single day"
   ]
  },
  {
   "cell_type": "code",
   "execution_count": 25,
   "metadata": {},
   "outputs": [
    {
     "data": {
      "text/plain": [
       "25"
      ]
     },
     "execution_count": 25,
     "metadata": {},
     "output_type": "execute_result"
    }
   ],
   "source": [
    "# Maximum number of cell towers\n",
    "sorted(df.groupby(['subscriber_id', 'date'])['location_id'].nunique(), reverse=True)[0]"
   ]
  },
  {
   "cell_type": "code",
   "execution_count": 26,
   "metadata": {},
   "outputs": [
    {
     "data": {
      "text/plain": [
       "6"
      ]
     },
     "execution_count": 26,
     "metadata": {},
     "output_type": "execute_result"
    }
   ],
   "source": [
    "# Maximum number of admin3 regions\n"
   ]
  },
  {
   "cell_type": "code",
   "execution_count": 27,
   "metadata": {},
   "outputs": [
    {
     "data": {
      "text/plain": [
       "4"
      ]
     },
     "execution_count": 27,
     "metadata": {},
     "output_type": "execute_result"
    }
   ],
   "source": [
    "# Maximum number of admin2 regions\n"
   ]
  },
  {
   "cell_type": "code",
   "execution_count": 28,
   "metadata": {},
   "outputs": [
    {
     "data": {
      "text/plain": [
       "2"
      ]
     },
     "execution_count": 28,
     "metadata": {},
     "output_type": "execute_result"
    }
   ],
   "source": [
    "# Maximum number of admin1 regions\n"
   ]
  },
  {
   "cell_type": "markdown",
   "metadata": {},
   "source": [
    "### Number of days that each subscriber is active"
   ]
  },
  {
   "cell_type": "code",
   "execution_count": 49,
   "metadata": {},
   "outputs": [
    {
     "data": {
      "text/plain": [
       "subscriber_id\n",
       "016C400K3S    30\n",
       "022D513G64    30\n",
       "05B835LA29    29\n",
       "Name: date, dtype: int64"
      ]
     },
     "execution_count": 49,
     "metadata": {},
     "output_type": "execute_result"
    }
   ],
   "source": [
    "df.groupby('subscriber_id')['date'].nunique()"
   ]
  },
  {
   "cell_type": "markdown",
   "metadata": {},
   "source": [
    "### Average number of events per day for each subscriber"
   ]
  },
  {
   "cell_type": "code",
   "execution_count": 36,
   "metadata": {},
   "outputs": [
    {
     "data": {
      "text/html": [
       "<div>\n",
       "<style scoped>\n",
       "    .dataframe tbody tr th:only-of-type {\n",
       "        vertical-align: middle;\n",
       "    }\n",
       "\n",
       "    .dataframe tbody tr th {\n",
       "        vertical-align: top;\n",
       "    }\n",
       "\n",
       "    .dataframe thead th {\n",
       "        text-align: right;\n",
       "    }\n",
       "</style>\n",
       "<table border=\"1\" class=\"dataframe\">\n",
       "  <thead>\n",
       "    <tr style=\"text-align: right;\">\n",
       "      <th></th>\n",
       "      <th>subscriber_id</th>\n",
       "      <th>date</th>\n",
       "      <th>time</th>\n",
       "    </tr>\n",
       "  </thead>\n",
       "  <tbody>\n",
       "    <tr>\n",
       "      <th>0</th>\n",
       "      <td>016C400K3S</td>\n",
       "      <td>2016-05-01</td>\n",
       "      <td>23</td>\n",
       "    </tr>\n",
       "    <tr>\n",
       "      <th>1</th>\n",
       "      <td>016C400K3S</td>\n",
       "      <td>2016-05-02</td>\n",
       "      <td>3</td>\n",
       "    </tr>\n",
       "    <tr>\n",
       "      <th>2</th>\n",
       "      <td>016C400K3S</td>\n",
       "      <td>2016-05-03</td>\n",
       "      <td>18</td>\n",
       "    </tr>\n",
       "    <tr>\n",
       "      <th>3</th>\n",
       "      <td>016C400K3S</td>\n",
       "      <td>2016-05-04</td>\n",
       "      <td>23</td>\n",
       "    </tr>\n",
       "    <tr>\n",
       "      <th>4</th>\n",
       "      <td>016C400K3S</td>\n",
       "      <td>2016-05-05</td>\n",
       "      <td>22</td>\n",
       "    </tr>\n",
       "  </tbody>\n",
       "</table>\n",
       "</div>"
      ],
      "text/plain": [
       "  subscriber_id        date  time\n",
       "0    016C400K3S  2016-05-01    23\n",
       "1    016C400K3S  2016-05-02     3\n",
       "2    016C400K3S  2016-05-03    18\n",
       "3    016C400K3S  2016-05-04    23\n",
       "4    016C400K3S  2016-05-05    22"
      ]
     },
     "execution_count": 36,
     "metadata": {},
     "output_type": "execute_result"
    }
   ],
   "source": [
    "# Hint: groupby 'subscriber_id' AND 'date' and get counts of 'time'\n",
    "\n",
    "events_per_day = df.groupby(['subscriber_id', 'date'])['time'].count()\\\n",
    "                    .reset_index()\n",
    "events_per_day.head()"
   ]
  },
  {
   "cell_type": "code",
   "execution_count": 38,
   "metadata": {},
   "outputs": [
    {
     "data": {
      "text/plain": [
       "subscriber_id\n",
       "016C400K3S    24.666667\n",
       "022D513G64    22.266667\n",
       "05B835LA29    11.517241\n",
       "Name: time, dtype: float64"
      ]
     },
     "execution_count": 38,
     "metadata": {},
     "output_type": "execute_result"
    }
   ],
   "source": [
    "# Then, group this by subscriber id and get the average for counts of time"
   ]
  },
  {
   "cell_type": "markdown",
   "metadata": {},
   "source": [
    "### Daily activity patterns"
   ]
  },
  {
   "cell_type": "code",
   "execution_count": 39,
   "metadata": {},
   "outputs": [],
   "source": [
    "# Look up how lambda functions work!\n",
    "\n",
    "df['hour'] = df['time'].apply(lambda x:pd.to_datetime(x).hour)"
   ]
  },
  {
   "cell_type": "code",
   "execution_count": 40,
   "metadata": {},
   "outputs": [],
   "source": [
    "hourly_counts = pd.DataFrame(df['hour'].value_counts())"
   ]
  },
  {
   "cell_type": "code",
   "execution_count": 47,
   "metadata": {},
   "outputs": [
    {
     "data": {
      "text/html": [
       "<div>\n",
       "<style scoped>\n",
       "    .dataframe tbody tr th:only-of-type {\n",
       "        vertical-align: middle;\n",
       "    }\n",
       "\n",
       "    .dataframe tbody tr th {\n",
       "        vertical-align: top;\n",
       "    }\n",
       "\n",
       "    .dataframe thead th {\n",
       "        text-align: right;\n",
       "    }\n",
       "</style>\n",
       "<table border=\"1\" class=\"dataframe\">\n",
       "  <thead>\n",
       "    <tr style=\"text-align: right;\">\n",
       "      <th></th>\n",
       "      <th>hour</th>\n",
       "    </tr>\n",
       "  </thead>\n",
       "  <tbody>\n",
       "    <tr>\n",
       "      <th>0</th>\n",
       "      <td>4</td>\n",
       "    </tr>\n",
       "    <tr>\n",
       "      <th>1</th>\n",
       "      <td>4</td>\n",
       "    </tr>\n",
       "    <tr>\n",
       "      <th>2</th>\n",
       "      <td>6</td>\n",
       "    </tr>\n",
       "    <tr>\n",
       "      <th>3</th>\n",
       "      <td>14</td>\n",
       "    </tr>\n",
       "    <tr>\n",
       "      <th>23</th>\n",
       "      <td>15</td>\n",
       "    </tr>\n",
       "    <tr>\n",
       "      <th>4</th>\n",
       "      <td>32</td>\n",
       "    </tr>\n",
       "    <tr>\n",
       "      <th>22</th>\n",
       "      <td>43</td>\n",
       "    </tr>\n",
       "    <tr>\n",
       "      <th>11</th>\n",
       "      <td>64</td>\n",
       "    </tr>\n",
       "    <tr>\n",
       "      <th>6</th>\n",
       "      <td>65</td>\n",
       "    </tr>\n",
       "    <tr>\n",
       "      <th>5</th>\n",
       "      <td>69</td>\n",
       "    </tr>\n",
       "    <tr>\n",
       "      <th>21</th>\n",
       "      <td>70</td>\n",
       "    </tr>\n",
       "    <tr>\n",
       "      <th>7</th>\n",
       "      <td>75</td>\n",
       "    </tr>\n",
       "    <tr>\n",
       "      <th>16</th>\n",
       "      <td>75</td>\n",
       "    </tr>\n",
       "    <tr>\n",
       "      <th>14</th>\n",
       "      <td>79</td>\n",
       "    </tr>\n",
       "    <tr>\n",
       "      <th>12</th>\n",
       "      <td>80</td>\n",
       "    </tr>\n",
       "    <tr>\n",
       "      <th>15</th>\n",
       "      <td>84</td>\n",
       "    </tr>\n",
       "    <tr>\n",
       "      <th>9</th>\n",
       "      <td>89</td>\n",
       "    </tr>\n",
       "    <tr>\n",
       "      <th>10</th>\n",
       "      <td>95</td>\n",
       "    </tr>\n",
       "    <tr>\n",
       "      <th>13</th>\n",
       "      <td>108</td>\n",
       "    </tr>\n",
       "    <tr>\n",
       "      <th>8</th>\n",
       "      <td>117</td>\n",
       "    </tr>\n",
       "    <tr>\n",
       "      <th>18</th>\n",
       "      <td>118</td>\n",
       "    </tr>\n",
       "    <tr>\n",
       "      <th>20</th>\n",
       "      <td>118</td>\n",
       "    </tr>\n",
       "    <tr>\n",
       "      <th>19</th>\n",
       "      <td>122</td>\n",
       "    </tr>\n",
       "    <tr>\n",
       "      <th>17</th>\n",
       "      <td>196</td>\n",
       "    </tr>\n",
       "  </tbody>\n",
       "</table>\n",
       "</div>"
      ],
      "text/plain": [
       "    hour\n",
       "0      4\n",
       "1      4\n",
       "2      6\n",
       "3     14\n",
       "23    15\n",
       "4     32\n",
       "22    43\n",
       "11    64\n",
       "6     65\n",
       "5     69\n",
       "21    70\n",
       "7     75\n",
       "16    75\n",
       "14    79\n",
       "12    80\n",
       "15    84\n",
       "9     89\n",
       "10    95\n",
       "13   108\n",
       "8    117\n",
       "18   118\n",
       "20   118\n",
       "19   122\n",
       "17   196"
      ]
     },
     "execution_count": 47,
     "metadata": {},
     "output_type": "execute_result"
    }
   ],
   "source": [
    "hourly_counts.sort_values('hour')"
   ]
  },
  {
   "cell_type": "code",
   "execution_count": 41,
   "metadata": {},
   "outputs": [
    {
     "data": {
      "image/png": "[encoded data removed]",
      "text/plain": [
       "<Figure size 432x288 with 1 Axes>"
      ]
     },
     "metadata": {
      "needs_background": "light"
     },
     "output_type": "display_data"
    }
   ],
   "source": [
    "# Plot how number of calls is distributed by time\n",
    "\n",
    "# Complete the code below\n",
    "hourly_counts.sort_index()['      '].plot();\n",
    "plt.xlabel('    ');\n",
    "plt.xticks(range(24));\n",
    "plt.ylabel('    ');"
   ]
  },
  {
   "cell_type": "markdown",
   "metadata": {},
   "source": [
    "### Find home locations"
   ]
  },
  {
   "cell_type": "code",
   "execution_count": 48,
   "metadata": {},
   "outputs": [
    {
     "name": "stdout",
     "output_type": "stream",
     "text": [
      "05B835LA29\n",
      "admin3\n",
      "Almendra      1\n",
      "Colaco      333\n",
      "Name: time, dtype: int64\n",
      "\n",
      "\n",
      "016C400K3S\n",
      "admin3\n",
      "Arbol     690\n",
      "Colina     23\n",
      "Flores      2\n",
      "Palma      23\n",
      "Rosa        1\n",
      "Vista       1\n",
      "Name: time, dtype: int64\n",
      "\n",
      "\n",
      "022D513G64\n",
      "admin3\n",
      "Boise       82\n",
      "Dulce        5\n",
      "Flores       9\n",
      "Funda        1\n",
      "Hormiga    516\n",
      "Liana        6\n",
      "Maris       46\n",
      "Mayor        2\n",
      "Vista        1\n",
      "Name: time, dtype: int64\n",
      "\n",
      "\n"
     ]
    }
   ],
   "source": [
    "# One of the simplest methods is to find the location where the most calls were made/received during the period\n",
    "# This is called the 'modal location'\n",
    "\n",
    "for subs in df['subscriber_id'].unique():\n",
    "    print(subs)\n",
    "    print (df[df['subscriber_id'] == subs]\\\n",
    "          .groupby(['admin3'])['time']\\\n",
    "          .count())\n",
    "    print('\\n')\n",
    "    \n",
    "# From the output below, you can find the region with the highest number of counts"
   ]
  }
 ],
 "metadata": {
  "kernelspec": {
   "display_name": "Python 3",
   "language": "python",
   "name": "python3"
  },
  "language_info": {
   "codemirror_mode": {
    "name": "ipython",
    "version": 3
   },
   "file_extension": ".py",
   "mimetype": "text/x-python",
   "name": "python",
   "nbconvert_exporter": "python",
   "pygments_lexer": "ipython3",
   "version": "3.7.3"
  }
 },
 "nbformat": 4,
 "nbformat_minor": 2
}
