{
  "cells": [
    {
      "cell_type": "markdown",
      "metadata": {
        "id": "sGxhgwb2SHxE"
      },
      "source": [
        "#Curso: Ciência de Dados\n",
        "\n",
        "##Problema 01\n",
        "##Representação de Dados\n",
        "\n",
        "Gerar uma matriz, a partir de um ou de ambos os textos anexo.\n",
        "\n",
        "Temos que ser capazes de voltar ao texto a partir da matriz. Podemos abrir mão de caracteres especiais e pontuação.\n",
        "\n",
        "Deve ser entregue a matriz, um texto explicando a estratégia e o código fonte utilizado para gerar a matriz (quando houver).\n"
      ]
    },
    {
      "cell_type": "code",
      "execution_count": null,
      "metadata": {
        "id": "tgkL-IM8SGmB"
      },
      "outputs": [],
      "source": [
        "# Lendo os arquivos\n",
        "base_text_1 = \"Base Text - Matrix Representation I.txt\"\n",
        "\n",
        "with open(base_text_1, \"r\") as file1:\n",
        "    file_content1 = file1.read()\n",
        "    print(file_content1)"
      ]
    },
    {
      "cell_type": "code",
      "execution_count": 4,
      "metadata": {},
      "outputs": [],
      "source": [
        "# Criando a Matriz\n",
        "matrix = [list(line.strip('\\\\b')) for line in file_content1]"
      ]
    },
    {
      "cell_type": "code",
      "execution_count": null,
      "metadata": {},
      "outputs": [],
      "source": [
        "# Criando a matriz em ASCII\n",
        "\n",
        "for list in matrix:\n",
        "    for i in list:\n",
        "        if isinstance(i, str):\n",
        "            list[list.index(i)] = ord(i)"
      ]
    },
    {
      "cell_type": "code",
      "execution_count": null,
      "metadata": {},
      "outputs": [],
      "source": [
        "# Convertendo a matriz de volta\n",
        "\n",
        "for list in matrix:\n",
        "    for i in list:\n",
        "        if isinstance(i, int):\n",
        "            list[list.index(i)] = chr(i)"
      ]
    },
    {
      "cell_type": "code",
      "execution_count": 7,
      "metadata": {},
      "outputs": [
        {
          "name": "stdout",
          "output_type": "stream",
          "text": [
            "De motu Circulari Fluidorum.\n",
            "\n",
            "Hypothesis.\n",
            "Resistentiam, quÃ¦ oritur ex defectu luricitatis partium Fluidi, cÃ¦teris parius, proportionalem esse velocitati, qua partes Fluidi separantur a invicem.\n",
            "\n",
            "Prop. LI. Theor. XXXVIII.\n",
            "Si Cylindrus solidus infinitÃ¨ longus in fluido uniformi & infinito circa axem positione datum uniformi cum motu revolvatur, & a hujus impulsu solo agatur Fluidum in Orem, perseveret autem fluidi pars unaquÃ¦que uniformiter in motu suo; dico quod tempora periodica partium fluidi sunt ut ipsarum distantiÃ¦ a axe cylindri.\n",
            "\n",
            "Sit AFL cylindrus uniformiter circa axem S in orem actus, & circulis concentricis BGM, CHN, DIO, EKP, &c. distinguatur fluidum in ores cylindricos innumeros concentricos solidos ejusdem crassitudinis. Et quoniam homogeneum est Fluidum, impressiones contiguorum orium in se mutuÃ² factÃ¦, erunt (per Hypothesin) ut eorum translationes a invicem & superficies contiguÃ¦ in quius impressiones fiunt. Si impressio in Orem aliquem major est vel minor, ex parte concava quÃ m ex parte convexa, prÃ¦valeit impressio fortior, & motum Oris vel accelerait vel retardait prout in eandem regionem cum ipsius motu, vel in contrariam dirigitur. Proinde ut Oris unusquisque in motu suo uniformiter perseveret, deent impressiones ex parte utraque sii invicem Ã¦quari, & fieri in regiones contrarias. Unde cÃ¹m impressiones sunt ut contiguÃ¦ superficies & harum translationes a invicem, erunt translationes inversÃ¨ ut superficies, hoc est inversÃ¨ ut superficierum distantiÃ¦ a axe. Sunt autem differentiÃ¦ motuum angularium circa axem ut hÃ¦ translationes applicatÃ¦ ad distantias, sive ut translationes directÃ¨ & distantiÃ¦ inversÃ¨; hoc est (conjunctis rationius) ut quadrata distantiarum inversÃ¨. Quare si ad infinitÃ¦ rectÃ¦ SABCDEQ partes singulas erigantur perpendicula Aa, B, Cc, Dd, Ee, &c. ipsarum SA, SB, SC, SD, SE, &c. quadratis reciprocÃ¨ proportionalia, & per terminos perpendicularium duci intelligatur linea curva Hyperolica; erunt summÃ¦ distantiarum, hoc est motus toti angulares, ut respondentes summÃ¦ linearum Aa, B, Cc, Dd, Ee: id est, si ad constituendum Medium uniformiter fluidum orium numerus augeatur & latitudo minuatur in infinitum, ut areÃ¦ HyperolicÃ¦ his summis AnalogÃ¦ AaQ, BQ, CcQ, DdQ, EeQ, &c. & tempora motius angularius reciprocÃ¨ proportionalia erunt etiam his areis reciprocÃ¨ proportionalia. Est igitur tempus periodicum particulÃ¦ cujusvis D reciprocÃ¨ ut area DdQ, hoc est, (per notas Curvarum quadraturas) directÃ¨ ut distantia SD.   Q. E. D.\n",
            "\n",
            "Corol. 1. Hinc motus angulares particularum fluidi sunt reciprocÃ¨ ut ipsarum distantiÃ¦ a axe Cylindri, & velocitates asolutÃ¦ sunt Ã¦quales.\n",
            "\n",
            "Corol. 2. Si fluidum in vase cylindrico longitudinis infinitÃ¦ contineantur, & cylindrum alium interiorem contineat, revolvatur autem cylindrus uterque circa axem communem, sintque revolutionum tempora ut ipsorum semidiametri, & perseveret fluidi pars unaquÃ¦que in motu suo: erunt partium singularum tempora periodica ut ipsarum distantiÃ¦ a axe cylindrorum.\n",
            "\n",
            "Corol. 3. Si cylindro & fluido ad hunc modum motis addatur vel auferatur communis quiliet motus angularis; quoniam hoc novo motu non mutatur attritus mutuus partium fluidi, non mutauntur motus partium inter se. Nam translationes partium a invicem pendent a attritu. Pars quÃ¦liet in eo perseverait motu, qui attritu utrinque in contrarias partes facto, non magis acceleratur quÃ m retardatur.\n",
            "\n",
            "Corol. 4. Unde si toti cylindrorum & fluidi Systemati auferatur motus omnis angularis cylindri exterioris, haeitur motus fluidi in cylindro quiescente.\n",
            "\n",
            "Corol. 5. Igitur si fluido & cylindro exteriore quiescentius, revolvatur cylindrus interior uniformiter, communicaitur motus circularis fluido, & paulatim per totum fluidum propagaitur; nec prius desinet augeri quÃ m fluidi partes singulÃ¦ motum Corollario quarto definitum acquirant.\n",
            "\n",
            "Corol. 6. Et quoniam fluidum conatur motum suum adhuc latius propagare, hujus impetu circumagetur etiam cylindrus exterior nisi violenter detentus; & acceleraitur ejus motus quoad usque tempora periodica cylindri utriusque Ã¦quentur inter se. Quod si cylindrus exterior violenter detineatur, conaitur is motum fluidi retardare, & nisi cylindrus interior vi aliqua extrinsecÃ¹s impressa motum illum conservet, efficiet ut idem paulatim cesset.\n",
            "\n",
            "QuÃ¦ omnia in aqua profunda stagnante experiri licet.\n",
            "\n",
            "Prop. LII. Theor. XXXIX.\n",
            "Si SphÃ¦ra solida, in fluido uniformi & infinito, circa axem positione datum uniformi cum motu revolvatur, & a hujus impulsu solo agatur fluidum in orem; perseveret autem fluidi pars unaquÃ¦que uniformiter in motu suo: dico quod tempora periodica partium fluidi erunt ut quadrata distantiarum Ã  centro SphÃ¦rÃ¦. Fig. Prop. LI.\n",
            "\n",
            "Cas. 1. Sit AFL sphÃ¦ra uniformiter circa axem S in orem acta, & circulis concentricis BGM, CHN, DIO, EKP, &c. distinguatur fluidum in ores innumeros concentricos ejusdem crassitudinis. Finge autem ores illos esse solidos; & quoniam homogeneum est fluidum, impressiones contiguorum Orium in se mutuÃ² factÃ¦, erunt (per Hypothesin) ut eorum translationes a invicem & superficies contiguÃ¦ in quius impressiones fiunt. Si impressio in orem aliquem major est vel minor ex parte concava quÃ m ex parte convexa, prÃ¦valeit impressio fortior, & velocitatem Oris vel accelerait vel retardait, prout in eandem regionem cum ipsius motu vel in contrariam dirigitur. Proinde ut oris unusquisque in motu suo perseveret uniformiter, deeunt impressiones ex parte utraque sii invicem Ã¦quari, & fieri in regiones contrarias. Unde cum impressiones sint ut contiguÃ¦ superficies & harum translationes a invicem; erunt translationes inversÃ¨ ut superficies, hoc est inversÃ¨ ut quadrata distantiarum superficierum Ã  centro. Sunt autem differentiÃ¦ motuum angularium circa axem ut hÃ¦ translationes applicatÃ¦ ad distantias, sive ut translationes directÃ¨ & distantiÃ¦ inversÃ¨; hoc est (conjunctis rationius) ut cui distantiarum inversÃ¨. Quare si ad rectÃ¦ infinitÃ¦ SABCDEQ partes singulas erigantur perpendicula Aa, B, Cc, Dd, Ee, &c. ipsarum SA, SB, SC, SD, SE, &c. cuis reciprocÃ¨ proportionalia, erunt summÃ¦ distantiarum, hoc est, motus toti angulares, ut respondentes summÃ¦ linearum Aa, B, Cc, Dd, Ee: id est (si ad constituendum Medium uniformiter fluidum, numerus Orium augeatur & latitudo minuatur in infinitum) ut areÃ¦ HyperolicÃ¦ his summis analogÃ¦ AaQ, BQ, CcQ, DdQ, EeQ, &c. Et tempora periodica motius angularius reciprocÃ¨ proportionalia erunt etiam his areis reciprocÃ¨ proportionalia. Est igitur tempus periodicum oris cujusvis DIO reciprocÃ¨ ut area DdQ, hoc est, (per notas Curvarum quadraturas) directÃ¨ ut quadratum distantiÃ¦ SD. Id quod volui primÃ² demonstrare.\n",
            "\n",
            "Cas. 2. A centro SphÃ¦rÃ¦ ducantur infinitÃ¦ rectÃ¦ quam plurimÃ¦, quÃ¦ cum axe datos contineant angulos, Ã¦qualius differentiis se mutuÃ² superantes; & his rectis circa axem revolutis concipe ores in annulos innumeros secari; & annulus unusquisque haeit annulos quatuor sii contiguos, unum interiorem, alterum exteriorem & duos laterales. Attritu interioris & exterioris non potest annulus unusquisque, nisi in motu juxta legem casus primi facto, Ã¦qualiter & in partes contrarias urgeri. Patet hoc ex demonstratione casus primi. Et propterea annulorum series quÃ¦liet Ã  gloo in infinitum rectÃ  pergens moveitur pro lege casus primi, nisi quatenus impeditur a attritu annulorum ad latera. At in motu hac lege facto, attritus annulorum ad latera nullus est, neque adeÃ² motum, quo minus hac lege fiat, impediet. Si annuli, qui Ã  centro Ã¦qualiter distant, vel citiÃ¹s revolverentur vel tardiÃ¹s juxta polos quÃ m juxta Ã¦quatorem; tardiores accelerarentur, & velociores retardarentur a attritu mutuo, & sic vergerent semper tempora periodica ad Ã¦qualitatem, pro lege casus primi. Non impedit igitur hic attritus quo minus motus fiat secundum legem casus primi, & propterea lex illa otineit: hoc est annulorum singulorum tempora periodica erunt ut quadrata distantiarum ipsorum Ã  centro gloi. Quod volui secundo demonstrare.\n",
            "\n",
            "Cas. 3. Dividatur jam annulus unusquisque sectionius transversis in particulas innumeras constituentes sustantiam asolutÃ¨ & uniformiter fluidam; & quoniam hÃ¦ sectiones non spectant ad legem motus circularis, sed ad constitutionem fluidi solummodo conducunt, perseverait motus circularis ut priÃ¹s. His sectionius annuli omnes quamminimi asperitatem & vim attritus mutui aut non mutaunt aut mutaunt Ã¦qualiter. Et manente causarum proportione maneit effectuum proportio, hoc est proportio motuum & periodicorum temporum.   Q. E. D.   CÃ¦terum cum motus circularis, & ainde orta vis centrifuga, major sit ad Eclipticam quÃ m ad polos; deeit causa aliqua adesse qua particulÃ¦ singulÃ¦ in circulis suis retineantur, ne materia quÃ¦ ad Eclipticam est recedat semper Ã  centro & per exteriora Vorticis migret ad polos, indeque per axem ad Eclipticam circulatione perpetua revertatur.\n",
            "\n",
            "Corol. 1. Hinc motus angulares partium fluidi circa axem gloi sunt reciprocÃ¨ ut quadrata distantiarum Ã  centro gloi, & velocitates asolutÃ¦ reciprocÃ¨ ut eadem quadrata applicata ad distantias a axe.\n",
            "\n",
            "Corol. 2. Si glous in fluido quiescente similari & infinito circa axem positione datum uniformi cum motu revolvatur, communicaitur motus fluido in morem Vorticis, & motus iste paulatim propagaitur in infinitum; neque prius cessait in singulis fluidi partius accelerari, quÃ m tempora periodica singularum partium sint ut quadrata distantiarum Ã  centro gloi.\n",
            "\n",
            "Corol. 3. Quoniam Vorticis partes interiores o majorem suam velocitatem atterunt & urgent exteriores, motumque ipsis ea actione perpetuÃ² communicant, & exteriores illi eandem motus quantitatem in alios adhuc exteriores simul transferunt, eaque actione servant quantitatem motus sui planÃ¨ invariatam; patet quod motus perpetuÃ² transfertur Ã  centro ad circumferentiam Vorticis, & per infinitatem circumferentiÃ¦ asoretur. Materia inter sphÃ¦ricas duas quasvis superficies Vortici concentricas nunquam acceleraitur, eÃ² quod motum omnem Ã  materia interiore acceptum transfert semper in exteriorem.\n",
            "\n",
            "Corol. 4. Proinde ad conservationem Vorticis constanter in eodem movendi statu, requiritur principium aliquod activum Ã  quo glous eandem semper quantitatem motus accipiat quam imprimit in materiam vorticis. Asque tali principio necesse est ut glous & Vorticis partes interiores, propagantes semper motum suum in exteriores, neque novum aliquem motum recipientes, tardescant paulatim & in orem agi desinant.\n",
            "\n",
            "Corol. 5. Si glous alter huic Vortici ad certam a ipsius centro distantiam innataret, & interea circa axem inclinatione datum vi aliqua constanter revolveretur; hujus motu raperetur fluidum in vorticem: & primÃ² revolveretur hic vortex novus & exiguus una cum gloo circa centrum alterius, & interea latiÃ¹s serperet ipsius motus, & paulatim propagaretur in infinitum, ad modum vorticis primi. Et eadem ratione qua hujus glous raperetur motu vorticis alterius, raperetur etiam glous alterius motu hujus, sic ut gloi duo circa intermedium aliquod punctum revolverentur, seque mutuÃ² o motum illum circularem fugerent, nisi per vim aliquam cohiiti. Postea si vires constanter impressÃ¦, quius gloi in motius suis perseverant, cessarent, & omnia legius Mechanicis permitterentur, languesceret paulatim motus gloorum (o rationem in Corol. 3. & 4. assignatam) & vortices tandem conquiescerent.\n",
            "\n",
            "Corol. 6. Si gloi plures datis in locis circum axes positione datos certis cum velocitatius constanter revolverentur, fierent vortices totidem in infinitum pergentes. Nam gloi singuli, eadem ratione qua unus aliquis motum suum propagat in infinitum, propagaunt etiam motus suos in infinitum, adeÃ² ut fluidi infiniti pars unaquÃ¦que eo agitetur motu qui ex omnium gloorum actionius resultat. Unde vortices non definientur certis limitius, sed in se mutuÃ² paulatim excurrent; gloiq; per actiones vorticum in se mutuÃ², perpetuÃ² moveuntur de locis suis; uti in Lemmate superiore expositum est; neq; certam quamvis inter se positionem servaunt, nisi per vim aliquam retenti. Cessantius autem virius illis quÃ¦ in gloos constanter impressÃ¦ conservant hosce motus, materia o rationem in Corollario tertio & quarto assignatam paulatim requiescet & in vortices agi desinet.\n",
            "\n",
            "Corol. 7. Si Fluidum similare claudatur in vase sphÃ¦rico, ac gloi in centro consistentis uniformi rotatione agatur in vorticem, glous autem & vas in eandem partem circa axem eundem revolvantur, sintq; eorum tempora periodica ut quadrata semidiametrorum: partes fluidi non prius perseveraunt in motius suis sine acceleratione & retardatione, quÃ m sint eorum tempora periodica ut quadrata distantiarum Ã  centro vorticis. Alia nulla Vorticis constitutio potest esse permanens.\n",
            "\n",
            "Corol. 8. Si vas, Fluidum inclusum & glous servent hunc motum, & motu prÃ¦terea communi angulari circa axem quemvis datum revolvantur; quoniam hoc motu novo non mutatur attritus partium fluidi in se invicem, non mutauntur motus partium inter se. Nam translationes partium inter se pendent a attritu. Pars quÃ¦liet in eo perseverait motu, quo fit ut attritu ex uno latere non magis tardetur quÃ m acceleretur attritu ex altero.\n",
            "\n",
            "Corol. 9. Unde si vas quiescat ac detur motus gloi, daitur motus fluidi. Nam concipe planum transire per axem gloi & motu contrario revolvi; & pone tempus revolutionis hujus esse ad summam hujus temporis & temporis revolutionis gloi, ut quadratum semidiametri vasis ad quadratum semidiametri gloi: & tempora periodica partium fluidi respectu plani hujus erunt ut quadrata distantiarum suarum Ã  centro gloi.\n",
            "\n",
            "Corol. 10. Proinde si vas vel circa axem eundem cum gloo, vel circa diversum aliquem, data cum velocitate quacunq; moveatur, daitur motus fluidi. Nam si Systemati toti auferatur vasis motus angularis, maneunt motus omnes iidem inter se qui prius, per Corol. 8. Et motus isti per Corol. 9. dauntur.\n",
            "\n",
            "Corol. 11. Si vas & fluidum quiescant & glous uniformi cum motu revolvatur, propagaitur motus paulatim per fluidum totum in vas, & circumagetur vas nisi violenter detentum, neq; prius desinent fluidum & vas accelerari, quÃ m sint eorum tempora periodica Ã¦qualia temporius periodicis gloi. Quod si vas vi aliqua detineatur vel revolvatur motu quovis constanti & uniformi, deveniet Medium paulatim ad statum motus in Corollariis 8. 9 & 10 definiti, nec in alio unquam statu quocunq; perseverait. Deinde verÃ² si, virius illis cessantius quius vas & glous certis motius revolveantur, permittatur Systema totum Legius Mechanicis; vas & glous in se invicem agent mediante fluido, neq; motus suos in se mutuÃ² per fluidum propagare prius cessaunt, quÃ m eorum tempora periodica Ã¦quantur inter se, & Systema totum ad instar corporis unius solidi simul revolvatur.\n",
            "\n",
            "Scholium.\n",
            "In his omnius suppono fluidum ex materia quoad densitatem & fluiditatem uniformi constare. Tale est in quo glous idem eodem cum motu, in eodem temporis intervallo, motus similes & Ã¦quales, ad Ã¦quales semper Ã  se distantias, uivis in fluido constitutus, propagare possit. Conatur quidem materia per motum suum circularem recedere a axe Vorticis, & propterea premit materiam omnem ulteriorem. Ex hac pressione fit attritus partium fortior & separatio a invicem difficilior; & per consequens diminuitur materiÃ¦ fluiditas. Rursus si partes fluidi sunt alicui crassiores seu majores, fluiditas ii minor erit, o pauciores superficies in quius partes separentur a invicem. In hujusmodi casius deficientem fluiditatem vel luricitate partium vel lentore aliave aliqua conditione restitui suppono. Hoc nisi fiat, materia ui minÃ¹s fluida est magis cohÃ¦reit & segnior erit, adeoq; motum tardiÃ¹s recipiet & longiÃ¹s propagait quÃ m pro ratione superiÃ¹s assignata. Si figura vasis non sit SphÃ¦rica, moveuntur particulÃ¦ in lineis non circularius sed conformius eidem vasis figurÃ¦, & tempora periodica erunt ut quadrata mediocrium distantiarum Ã  centro quamproximÃ¨. In partius inter centrum & circumferentiam, ui latiora sunt spatia, tardiores erunt motus, ui angustiora velociores; neque tamen particulÃ¦ velociores petent circumferentiam. Arcus enim descrient minus curvos, & conatus recedendi Ã  centro non minus diminuetur per decrementum hujus curvaturÃ¦, quÃ m augeitur per incrementum velocitatis. Pergendo Ã  spatiis angustiorius in latiora recedent paulÃ² longiÃ¹s Ã  centro, sed isto recessu tardescent; & accedendo postea de latiorius ad angustiora accelerauntur, & sic per vices tardescent & accelerauntur particulÃ¦ singulÃ¦ in perpetuum. HÃ¦c ita se haeunt in vase rigido. Nam in fluido infinito constitutio Vorticum innotescit per Propositionis hujus Corollarium sextum.\n",
            "\n",
            "Proprietates autem Vorticum hac Propositione investigare conatus sum, ut pertentarem siqua ratione PhÃ¦nomena cÅ“lestia per Vortices explicari possint. Nam PhÃ¦nomenon est quod Planetarum circa Jovem revolventium tempora periodica sunt in ratione sesquialtera distantiarum Ã  centro Jovis; & eadem Regula otinet in Planetis qui circa Solem revolvuntur. Otinent autem hÃ¦ RegulÃ¦ in Planetis utrisque quam accuratissimÃ¨, quatenus oservationes AstronomicÃ¦ hactenus prodidÃªre. Ideoq; si PlanetÃ¦ illi Ã  Vorticius circa Jovem & Solem revolventius deferantur, deeunt etiam hi Vortices eadem lege revolvi. Verum tempora periodica partium Vorticis prodierunt in ratione duplicata distantiarum Ã  centro motus: neque potest ratio illa diminui & ad rationem sesquialteram reduci, nisi vel materia vorticis eo fluidior sit quo longius distat Ã  centro, vel resistentia, quÃ¦ oritur ex defectu luricitatis partium fluidi, ex aucta velocitate qua partes fluidi separantur a invicem, augeatur in majori ratione quÃ m ea est in qua velocitas augetur. Quorum tamen neutrum rationi consentaneum videtur. Partes crassiores & minus fluidÃ¦ (nisi graves sint in centrum) circumferentiam petent; & verisimile est quod, etiamsi Demonstrationum gratia Hypothesin talem initio Sectionis hujus proposuerim ut Resistentia velocitati proportionalis esset, tamen Resistentia in minori sit ratione quÃ m ea velocitatis est. Quo concesso tempora periodica partium Vorticis erunt in majori quÃ m duplicata ratione distantiarum a ipsius centro. Quod si vortices (uti aliquorum est opinio) celeriÃ¹s moveantur prope centrum, dein tardiÃ¹s usque ad certum limitem, tum denuÃ² celeriÃ¹s juxta circumferentiam; certÃ¨ nec ratio sesquialtera neque alia quÃ¦vis certa ac determinata otinere potest. Viderint itaq; Philosophi quo pacto PhÃ¦nomenon illud rationis sesquialterÃ¦ per Vortices explicari possit.\n",
            "\n",
            "Prop. LIII. Theor. XL.\n",
            "Corpora quÃ¦ in Vortice delata in orem redeunt ejusdem sunt densitatis cum Vortice, & eadem lege cum ipsius partius (quoad velocitatem & cursus determinationem) moventur.\n",
            "\n",
            "Nam si vorticis pars aliqua exigua, cujus particulÃ¦ seu puncta physica datum servant situm inter se, congelari supponatur: hÃ¦c, quoniam neq; quoad densitatem suam, neque quoad vim insitam aut figuram suam mutatur, moveitur eadem lege ac prius: & contra, si Vorticis pars congelata & solida ejusdem sit densitatis cum reliquo vortice, & resolvatur in fluidum; moveitur hÃ¦c eadem lege ac prius, nisi quatenus ipsius particulÃ¦ jam fluidÃ¦ factÃ¦ moveantur inter se. Negligatur igitur motus particularum inter se, tanquam ad totius motum progressivum nil spectans, & motus totius idem erit ac prius. Motus autem idem erit cum motu aliarum Vorticis partium Ã  centro Ã¦qualiter distantium, propterea quod solidum in Fluidum resolutum fit pars Vorticis cÃ¦teris partius consimilis. Ergo solidum, si sit ejusdem densitatis cum materia Vorticis, eodem motu cum ipsius partius moveitur, in materia proximÃ¨ amiente relative quiescens. Sin densius sit, jam magis conaitur recedere Ã  centro Vorticis quÃ m priÃ¹s; adeoq; Vorticis vim illam, qua priÃ¹s in Orita sua tanquam in Ã¦quilirio constitutum retineatur, jam superans, recedet Ã  centro & revolvendo descriet Spiralem, non amplius in eundem Orem rediens. Et eodem argumento si rarius sit, accedet ad centrum. Igitur non rediit in eundem Orem nisi sit ejusdem densitatis cum fluido. Eo autem in casu ostensum est, quod revolveretur eadem lege cum partius fluidi Ã  centro Vorticis Ã¦qualiter distantius.   Q. E. D.\n",
            "\n",
            "Corol. 1. Ergo solidum quod in Vortice revolvitur & in eundem Orem semper redit, relativÃ¨ quiescit in fluido cui innatat.\n",
            "\n",
            "Corol. 2. Et si vortex sit quoad densitatem uniformis, corpus idem ad quamliet Ã  centro Vorticis distantiam revolvi potest.\n",
            "\n",
            "Scholium.\n",
            "Hinc liquet Planetas Ã  Vorticius corporeis non deferri. Nam PlanetÃ¦ secundum Hypothesin CopernicÃ¦am circa Solem delati revolvuntur in Ellipsius umilicum haentius in Sole, & radiis ad Solem ductis areas descriunt temporius proportionales. At partes Vorticis tali motu revolvi nequeunt. Designent AD, BE, CF, ores tres circa Solem S descriptos, quorum extimus CF circulus sit Soli concentricus, & interiorum duorum Aphelia sint A, B, & Perihelia D, E. Ergo corpus quod revolvitur in ore CF, radio ad Solem ducto areas temporius proportionales descriendo, moveitur uniformi cum motu. Corpus autem quod revolvitur in Ore BE, tardiÃ¹s moveitur in Aphelio B & velociÃ¹s in Perihelio C, secundum leges Astronomicas; cum tamen secundum leges Mechanicas materia Vorticis in spatio angustiore inter A & C velociÃ¹s moveri deeat quÃ m in spatio latiore inter D & F; id est, in Aphelio velociÃ¹s quÃ m in Perihelio. QuÃ¦ duo repugnant inter se. Sic in principio Signi Virginis, ui Aphelium Martis jam versatur, distantia inter ores Martis & Veneris est ad distantiam eorundem orium in principio Signi Piscium ut tria ad duo circiter, & propterea materia Vorticis inter Ores illos in principio Piscium deet esse velocior quÃ m in principio Virginis in ratione trium ad duo. Nam quo angustius est spatium per quod eadem MateriÃ¦ quantitas eodem revolutionis unius tempore transit, eo majori cum velocitate transire deet. Igitur si Terra in hac Materia cÅ“lesti relativÃ¨ quiescens a ea deferretur, & una circa Solem revolveretur, foret hujus velocitas in principio Piscium ad ejusdem velocitatem in principio Virginis in ratione sesquialtera. Unde Solis motus diurnus apparens in principio Virginis major esset quÃ m minutorum primorum septuaginta, & in principio Piscium minor quÃ m minutorum quadraginta & octo: cum tamen (experientia teste) apparens iste Solis motus major sit in principio Piscium quÃ m in principio Virginis, & propterea Terra velocior in principio Virginis quÃ m in principio Piscium. Itaq; Hypothesis Vorticum cum PhÃ¦nomenis Astronomicis omninÃ² pugnat, & non tam ad explicandos quÃ m ad perturandos motus cÅ“lestes conducit. Quomodo verÃ² motus isti in spatiis lieris asque Vorticius peraguntur intelligi potest ex Liro primo, & in Mundi Systemate pleniÃ¹s doceitur.\n",
            "\n"
          ]
        }
      ],
      "source": [
        "# Transformando em texto novamente\n",
        "\n",
        "text = ''\n",
        "\n",
        "for list in matrix:\n",
        "    text += ''.join(list)\n",
        "\n",
        "print(text)"
      ]
    },
    {
      "cell_type": "code",
      "execution_count": null,
      "metadata": {},
      "outputs": [],
      "source": []
    }
  ],
  "metadata": {
    "colab": {
      "collapsed_sections": [],
      "name": "Problema 01.ipynb",
      "provenance": []
    },
    "kernelspec": {
      "display_name": "Python 3.10.4 64-bit",
      "language": "python",
      "name": "python3"
    },
    "language_info": {
      "codemirror_mode": {
        "name": "ipython",
        "version": 3
      },
      "file_extension": ".py",
      "mimetype": "text/x-python",
      "name": "python",
      "nbconvert_exporter": "python",
      "pygments_lexer": "ipython3",
      "version": "3.10.4"
    },
    "vscode": {
      "interpreter": {
        "hash": "aff46a3acd3684deb058af6e72ec19ab373f2dfd3a09ff0764b1d216bde1cae5"
      }
    }
  },
  "nbformat": 4,
  "nbformat_minor": 0
}
