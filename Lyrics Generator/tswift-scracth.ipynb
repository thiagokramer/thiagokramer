{
 "cells": [
  {
   "cell_type": "code",
   "execution_count": 2,
   "metadata": {},
   "outputs": [],
   "source": [
    "import numpy as np\n",
    "import pandas as pd\n",
    "import sys\n",
    "from keras.models import Sequential\n",
    "from keras.layers import LSTM, Activation, Flatten, Dropout, Dense, Embedding, TimeDistributed, CuDNNLSTM\n",
    "from keras.callbacks import ModelCheckpoint\n",
    "from keras.utils import np_utils"
   ]
  },
  {
   "cell_type": "code",
   "execution_count": 3,
   "metadata": {},
   "outputs": [
    {
     "data": {
      "text/html": [
       "<div>\n",
       "<style scoped>\n",
       "    .dataframe tbody tr th:only-of-type {\n",
       "        vertical-align: middle;\n",
       "    }\n",
       "\n",
       "    .dataframe tbody tr th {\n",
       "        vertical-align: top;\n",
       "    }\n",
       "\n",
       "    .dataframe thead th {\n",
       "        text-align: right;\n",
       "    }\n",
       "</style>\n",
       "<table border=\"1\" class=\"dataframe\">\n",
       "  <thead>\n",
       "    <tr style=\"text-align: right;\">\n",
       "      <th></th>\n",
       "      <th>artist</th>\n",
       "      <th>album</th>\n",
       "      <th>track_title</th>\n",
       "      <th>track_n</th>\n",
       "      <th>lyric</th>\n",
       "      <th>line</th>\n",
       "      <th>year</th>\n",
       "    </tr>\n",
       "  </thead>\n",
       "  <tbody>\n",
       "    <tr>\n",
       "      <th>0</th>\n",
       "      <td>Taylor Swift</td>\n",
       "      <td>Taylor Swift</td>\n",
       "      <td>Tim McGraw</td>\n",
       "      <td>1</td>\n",
       "      <td>He said the way my blue eyes shined</td>\n",
       "      <td>1</td>\n",
       "      <td>2006</td>\n",
       "    </tr>\n",
       "    <tr>\n",
       "      <th>1</th>\n",
       "      <td>Taylor Swift</td>\n",
       "      <td>Taylor Swift</td>\n",
       "      <td>Tim McGraw</td>\n",
       "      <td>1</td>\n",
       "      <td>Put those Georgia stars to shame that night</td>\n",
       "      <td>2</td>\n",
       "      <td>2006</td>\n",
       "    </tr>\n",
       "    <tr>\n",
       "      <th>2</th>\n",
       "      <td>Taylor Swift</td>\n",
       "      <td>Taylor Swift</td>\n",
       "      <td>Tim McGraw</td>\n",
       "      <td>1</td>\n",
       "      <td>I said, \"That's a lie\"</td>\n",
       "      <td>3</td>\n",
       "      <td>2006</td>\n",
       "    </tr>\n",
       "    <tr>\n",
       "      <th>3</th>\n",
       "      <td>Taylor Swift</td>\n",
       "      <td>Taylor Swift</td>\n",
       "      <td>Tim McGraw</td>\n",
       "      <td>1</td>\n",
       "      <td>Just a boy in a Chevy truck</td>\n",
       "      <td>4</td>\n",
       "      <td>2006</td>\n",
       "    </tr>\n",
       "    <tr>\n",
       "      <th>4</th>\n",
       "      <td>Taylor Swift</td>\n",
       "      <td>Taylor Swift</td>\n",
       "      <td>Tim McGraw</td>\n",
       "      <td>1</td>\n",
       "      <td>That had a tendency of gettin' stuck</td>\n",
       "      <td>5</td>\n",
       "      <td>2006</td>\n",
       "    </tr>\n",
       "  </tbody>\n",
       "</table>\n",
       "</div>"
      ],
      "text/plain": [
       "         artist         album track_title  track_n  \\\n",
       "0  Taylor Swift  Taylor Swift  Tim McGraw        1   \n",
       "1  Taylor Swift  Taylor Swift  Tim McGraw        1   \n",
       "2  Taylor Swift  Taylor Swift  Tim McGraw        1   \n",
       "3  Taylor Swift  Taylor Swift  Tim McGraw        1   \n",
       "4  Taylor Swift  Taylor Swift  Tim McGraw        1   \n",
       "\n",
       "                                         lyric  line  year  \n",
       "0          He said the way my blue eyes shined     1  2006  \n",
       "1  Put those Georgia stars to shame that night     2  2006  \n",
       "2                       I said, \"That's a lie\"     3  2006  \n",
       "3                  Just a boy in a Chevy truck     4  2006  \n",
       "4         That had a tendency of gettin' stuck     5  2006  "
      ]
     },
     "execution_count": 3,
     "metadata": {},
     "output_type": "execute_result"
    }
   ],
   "source": [
    "dataset = pd.read_csv('taylor_swift_lyrics.csv', encoding = 'latin1')\n",
    "\n",
    "dataset.head()"
   ]
  },
  {
   "cell_type": "code",
   "execution_count": 4,
   "metadata": {},
   "outputs": [],
   "source": [
    "def processFirtLine(lyrics, songID, songName, row):\n",
    "    lyrics.append(row['lyric'] + '\\n')\n",
    "    songID.append(row['year']*100 + row['track_n'])\n",
    "    songName.append(row['track_title'])\n",
    "    return lyrics, songID, songName\n",
    "\n",
    "lyrics = []\n",
    "songID = []\n",
    "songName = []\n",
    "\n",
    "songNumber = 1\n",
    "i = 0\n",
    "isFirstLine = True\n",
    "\n",
    "for index,row in dataset.iterrows():\n",
    "    if(songNumber == row['track_n']):\n",
    "        if(isFirstLine):\n",
    "            lyrics, songID, songName = processFirtLine(lyrics, songID, songName, row)\n",
    "            isFirstLine = False\n",
    "        else:\n",
    "            lyrics[i] += row['lyric'] + '\\n'\n",
    "    \n",
    "    else:\n",
    "        lyrics, songID, songName = processFirtLine(lyrics, songID, songName, row)\n",
    "        songNumber = row['track_n']\n",
    "        i += 1"
   ]
  },
  {
   "cell_type": "code",
   "execution_count": 7,
   "metadata": {},
   "outputs": [],
   "source": [
    "lyrics_data = pd.DataFrame({'songID':songID, 'songName':songName, 'lyrics':lyrics})\n",
    "\n",
    "with open('lyricsText.txt', 'w', encoding= 'utf-8') as filehandle:\n",
    "    for listitem in lyrics:\n",
    "        filehandle.write('%s\\n' % listitem)\n",
    "\n",
    "textFileName = 'lyricsText.txt'\n",
    "raw_text = open(textFileName, encoding = 'UTF-8').read()\n",
    "raw_text = raw_text.lower()\n"
   ]
  },
  {
   "cell_type": "code",
   "execution_count": 8,
   "metadata": {},
   "outputs": [],
   "source": [
    "chars = sorted(list(set(raw_text)))\n",
    "int_chars = dict((i, c) for i, c in enumerate(chars))\n",
    "chars_int = dict((i, c) for c, i in enumerate(chars))\n",
    "\n",
    "n_chars = len(raw_text)\n",
    "n_vocab = len(chars)"
   ]
  },
  {
   "cell_type": "code",
   "execution_count": 9,
   "metadata": {},
   "outputs": [
    {
     "name": "stdout",
     "output_type": "stream",
     "text": [
      "Total Characters:  173698\n",
      "Total Vocab: 58\n"
     ]
    }
   ],
   "source": [
    "print('Total Characters: ', n_chars)\n",
    "print('Total Vocab:', n_vocab)"
   ]
  },
  {
   "cell_type": "code",
   "execution_count": 12,
   "metadata": {},
   "outputs": [
    {
     "name": "stdout",
     "output_type": "stream",
     "text": [
      "Total Patterns: 173598\n"
     ]
    }
   ],
   "source": [
    "seq_len = 100\n",
    "data_X = []\n",
    "data_Y = []\n",
    "\n",
    "for i in range (0, n_chars - seq_len, 1):\n",
    "    seq_in = raw_text[i:i + seq_len]\n",
    "    seq_out = raw_text[i + seq_len]\n",
    "    data_X.append([chars_int[char] for char in seq_in])\n",
    "    data_Y.append(chars_int[seq_out])\n",
    "\n",
    "n_patterns = len(data_X)\n",
    "print('Total Patterns:', n_patterns)"
   ]
  },
  {
   "cell_type": "code",
   "execution_count": 13,
   "metadata": {},
   "outputs": [],
   "source": [
    "X = np.reshape(data_X, (n_patterns, seq_len, 1))\n",
    "X = X/float(n_vocab)\n",
    "Y = np_utils.to_categorical(data_Y)"
   ]
  },
  {
   "cell_type": "markdown",
   "metadata": {},
   "source": [
    "Building the Modelo"
   ]
  },
  {
   "cell_type": "code",
   "execution_count": 14,
   "metadata": {},
   "outputs": [],
   "source": [
    "LSTM_layer_num = 4\n",
    "layer_size = [256, 256, 256, 256]\n",
    "model = Sequential()"
   ]
  },
  {
   "cell_type": "code",
   "execution_count": 16,
   "metadata": {},
   "outputs": [
    {
     "name": "stdout",
     "output_type": "stream",
     "text": [
      "Model: \"sequential\"\n",
      "_________________________________________________________________\n",
      " Layer (type)                Output Shape              Param #   \n",
      "=================================================================\n",
      " cu_dnnlstm (CuDNNLSTM)      (None, 100, 256)          265216    \n",
      "                                                                 \n",
      " cu_dnnlstm_1 (CuDNNLSTM)    (None, 100, 256)          526336    \n",
      "                                                                 \n",
      " cu_dnnlstm_2 (CuDNNLSTM)    (None, 100, 256)          526336    \n",
      "                                                                 \n",
      " cu_dnnlstm_3 (CuDNNLSTM)    (None, 100, 256)          526336    \n",
      "                                                                 \n",
      " flatten (Flatten)           (None, 25600)             0         \n",
      "                                                                 \n",
      " dense (Dense)               (None, 58)                1484858   \n",
      "                                                                 \n",
      " activation (Activation)     (None, 58)                0         \n",
      "                                                                 \n",
      "=================================================================\n",
      "Total params: 3,329,082\n",
      "Trainable params: 3,329,082\n",
      "Non-trainable params: 0\n",
      "_________________________________________________________________\n"
     ]
    }
   ],
   "source": [
    "model.add(CuDNNLSTM(layer_size[0], input_shape = (X.shape[1], X.shape[2]), return_sequences = True))\n",
    "\n",
    "for i in range(1, LSTM_layer_num):\n",
    "    model.add(CuDNNLSTM(layer_size[i], return_sequences=True))\n",
    "\n",
    "model.add(Flatten())\n",
    "model.add(Dense(Y.shape[1]))\n",
    "model.add(Activation('softmax'))\n",
    "model.compile(loss = 'categorical_crossentropy', optimizer='adam')\n",
    "\n",
    "model.summary()\n"
   ]
  },
  {
   "cell_type": "code",
   "execution_count": 17,
   "metadata": {},
   "outputs": [],
   "source": [
    "checkpoinmpon45j3_name = 'Weights-LSTM-improvement-{epoch:03d}-{loss:.5f}-bigger.hdf5'\n",
    "checkpoint = ModelCheckpoint(checkpoint_name, monitor='loss', verbose=1, save_best_only=True, mode='min')\n",
    "callback_list = [checkpoint]"
   ]
  },
  {
   "cell_type": "code",
   "execution_count": 19,
   "metadata": {},
   "outputs": [
    {
     "name": "stdout",
     "output_type": "stream",
     "text": [
      "Epoch 1/30\n"
     ]
    },
    {
     "ename": "InvalidArgumentError",
     "evalue": "No OpKernel was registered to support Op 'CudnnRNNV2' used by {{node sequential/cu_dnnlstm/CudnnRNNV2}} with these attrs: [dropout=0, seed=0, T=DT_FLOAT, input_mode=\"linear_input\", direction=\"unidirectional\", rnn_mode=\"lstm\", is_training=true, seed2=0]\nRegistered devices: [CPU]\nRegistered kernels:\n  device='GPU'; T in [DT_HALF]\n  device='GPU'; T in [DT_FLOAT]\n  device='GPU'; T in [DT_DOUBLE]\n\n\t [[sequential/cu_dnnlstm/CudnnRNNV2]] [Op:__inference_train_function_4013]",
     "output_type": "error",
     "traceback": [
      "\u001b[1;31m---------------------------------------------------------------------------\u001b[0m",
      "\u001b[1;31mInvalidArgumentError\u001b[0m                      Traceback (most recent call last)",
      "\u001b[1;32mc:\\Users\\ThinkPad\\Desktop\\thiagokramer\\Lyrics Generator\\tswift.ipynb Cell 13'\u001b[0m in \u001b[0;36m<cell line: 12>\u001b[1;34m()\u001b[0m\n\u001b[0;32m      <a href='vscode-notebook-cell:/c%3A/Users/ThinkPad/Desktop/thiagokramer/Lyrics%20Generator/tswift.ipynb#ch0000013?line=0'>1</a>\u001b[0m model_params \u001b[39m=\u001b[39m {\u001b[39m'\u001b[39m\u001b[39mepochs\u001b[39m\u001b[39m'\u001b[39m:\u001b[39m30\u001b[39m,\n\u001b[0;32m      <a href='vscode-notebook-cell:/c%3A/Users/ThinkPad/Desktop/thiagokramer/Lyrics%20Generator/tswift.ipynb#ch0000013?line=1'>2</a>\u001b[0m                 \u001b[39m'\u001b[39m\u001b[39mbatch_size\u001b[39m\u001b[39m'\u001b[39m:\u001b[39m128\u001b[39m,\n\u001b[0;32m      <a href='vscode-notebook-cell:/c%3A/Users/ThinkPad/Desktop/thiagokramer/Lyrics%20Generator/tswift.ipynb#ch0000013?line=2'>3</a>\u001b[0m                 \u001b[39m'\u001b[39m\u001b[39mcallbacks\u001b[39m\u001b[39m'\u001b[39m:callback_list,\n\u001b[1;32m   (...)\u001b[0m\n\u001b[0;32m      <a href='vscode-notebook-cell:/c%3A/Users/ThinkPad/Desktop/thiagokramer/Lyrics%20Generator/tswift.ipynb#ch0000013?line=8'>9</a>\u001b[0m                 \u001b[39m'\u001b[39m\u001b[39msteps_per_epoch\u001b[39m\u001b[39m'\u001b[39m:\u001b[39mNone\u001b[39;00m,\n\u001b[0;32m     <a href='vscode-notebook-cell:/c%3A/Users/ThinkPad/Desktop/thiagokramer/Lyrics%20Generator/tswift.ipynb#ch0000013?line=9'>10</a>\u001b[0m                 \u001b[39m'\u001b[39m\u001b[39mvalidation_steps\u001b[39m\u001b[39m'\u001b[39m:\u001b[39mNone\u001b[39;00m}\n\u001b[1;32m---> <a href='vscode-notebook-cell:/c%3A/Users/ThinkPad/Desktop/thiagokramer/Lyrics%20Generator/tswift.ipynb#ch0000013?line=11'>12</a>\u001b[0m model\u001b[39m.\u001b[39;49mfit(X,Y,\n\u001b[0;32m     <a href='vscode-notebook-cell:/c%3A/Users/ThinkPad/Desktop/thiagokramer/Lyrics%20Generator/tswift.ipynb#ch0000013?line=12'>13</a>\u001b[0m           epochs \u001b[39m=\u001b[39;49m model_params[\u001b[39m'\u001b[39;49m\u001b[39mepochs\u001b[39;49m\u001b[39m'\u001b[39;49m],\n\u001b[0;32m     <a href='vscode-notebook-cell:/c%3A/Users/ThinkPad/Desktop/thiagokramer/Lyrics%20Generator/tswift.ipynb#ch0000013?line=13'>14</a>\u001b[0m           batch_size \u001b[39m=\u001b[39;49m model_params[\u001b[39m'\u001b[39;49m\u001b[39mbatch_size\u001b[39;49m\u001b[39m'\u001b[39;49m],\n\u001b[0;32m     <a href='vscode-notebook-cell:/c%3A/Users/ThinkPad/Desktop/thiagokramer/Lyrics%20Generator/tswift.ipynb#ch0000013?line=14'>15</a>\u001b[0m           callbacks \u001b[39m=\u001b[39;49m model_params[\u001b[39m'\u001b[39;49m\u001b[39mcallbacks\u001b[39;49m\u001b[39m'\u001b[39;49m],\n\u001b[0;32m     <a href='vscode-notebook-cell:/c%3A/Users/ThinkPad/Desktop/thiagokramer/Lyrics%20Generator/tswift.ipynb#ch0000013?line=15'>16</a>\u001b[0m           verbose \u001b[39m=\u001b[39;49m model_params[\u001b[39m'\u001b[39;49m\u001b[39mverbose\u001b[39;49m\u001b[39m'\u001b[39;49m],\n\u001b[0;32m     <a href='vscode-notebook-cell:/c%3A/Users/ThinkPad/Desktop/thiagokramer/Lyrics%20Generator/tswift.ipynb#ch0000013?line=16'>17</a>\u001b[0m           validation_split \u001b[39m=\u001b[39;49m model_params[\u001b[39m'\u001b[39;49m\u001b[39mvalidation_split\u001b[39;49m\u001b[39m'\u001b[39;49m],\n\u001b[0;32m     <a href='vscode-notebook-cell:/c%3A/Users/ThinkPad/Desktop/thiagokramer/Lyrics%20Generator/tswift.ipynb#ch0000013?line=17'>18</a>\u001b[0m           validation_data \u001b[39m=\u001b[39;49m model_params[\u001b[39m'\u001b[39;49m\u001b[39mvalidation_data\u001b[39;49m\u001b[39m'\u001b[39;49m],\n\u001b[0;32m     <a href='vscode-notebook-cell:/c%3A/Users/ThinkPad/Desktop/thiagokramer/Lyrics%20Generator/tswift.ipynb#ch0000013?line=18'>19</a>\u001b[0m           shuffle \u001b[39m=\u001b[39;49m model_params[\u001b[39m'\u001b[39;49m\u001b[39mshuffle\u001b[39;49m\u001b[39m'\u001b[39;49m],\n\u001b[0;32m     <a href='vscode-notebook-cell:/c%3A/Users/ThinkPad/Desktop/thiagokramer/Lyrics%20Generator/tswift.ipynb#ch0000013?line=19'>20</a>\u001b[0m           initial_epoch \u001b[39m=\u001b[39;49m model_params[\u001b[39m'\u001b[39;49m\u001b[39minitial_epoch\u001b[39;49m\u001b[39m'\u001b[39;49m],\n\u001b[0;32m     <a href='vscode-notebook-cell:/c%3A/Users/ThinkPad/Desktop/thiagokramer/Lyrics%20Generator/tswift.ipynb#ch0000013?line=20'>21</a>\u001b[0m           steps_per_epoch \u001b[39m=\u001b[39;49m model_params[\u001b[39m'\u001b[39;49m\u001b[39msteps_per_epoch\u001b[39;49m\u001b[39m'\u001b[39;49m],\n\u001b[0;32m     <a href='vscode-notebook-cell:/c%3A/Users/ThinkPad/Desktop/thiagokramer/Lyrics%20Generator/tswift.ipynb#ch0000013?line=21'>22</a>\u001b[0m           validation_steps \u001b[39m=\u001b[39;49m model_params[\u001b[39m'\u001b[39;49m\u001b[39mvalidation_steps\u001b[39;49m\u001b[39m'\u001b[39;49m])\n",
      "File \u001b[1;32m~\\AppData\\Local\\Programs\\Python\\Python310\\lib\\site-packages\\keras\\utils\\traceback_utils.py:67\u001b[0m, in \u001b[0;36mfilter_traceback.<locals>.error_handler\u001b[1;34m(*args, **kwargs)\u001b[0m\n\u001b[0;32m     <a href='file:///c%3A/Users/ThinkPad/AppData/Local/Programs/Python/Python310/lib/site-packages/keras/utils/traceback_utils.py?line=64'>65</a>\u001b[0m \u001b[39mexcept\u001b[39;00m \u001b[39mException\u001b[39;00m \u001b[39mas\u001b[39;00m e:  \u001b[39m# pylint: disable=broad-except\u001b[39;00m\n\u001b[0;32m     <a href='file:///c%3A/Users/ThinkPad/AppData/Local/Programs/Python/Python310/lib/site-packages/keras/utils/traceback_utils.py?line=65'>66</a>\u001b[0m   filtered_tb \u001b[39m=\u001b[39m _process_traceback_frames(e\u001b[39m.\u001b[39m__traceback__)\n\u001b[1;32m---> <a href='file:///c%3A/Users/ThinkPad/AppData/Local/Programs/Python/Python310/lib/site-packages/keras/utils/traceback_utils.py?line=66'>67</a>\u001b[0m   \u001b[39mraise\u001b[39;00m e\u001b[39m.\u001b[39mwith_traceback(filtered_tb) \u001b[39mfrom\u001b[39;00m \u001b[39mNone\u001b[39m\n\u001b[0;32m     <a href='file:///c%3A/Users/ThinkPad/AppData/Local/Programs/Python/Python310/lib/site-packages/keras/utils/traceback_utils.py?line=67'>68</a>\u001b[0m \u001b[39mfinally\u001b[39;00m:\n\u001b[0;32m     <a href='file:///c%3A/Users/ThinkPad/AppData/Local/Programs/Python/Python310/lib/site-packages/keras/utils/traceback_utils.py?line=68'>69</a>\u001b[0m   \u001b[39mdel\u001b[39;00m filtered_tb\n",
      "File \u001b[1;32m~\\AppData\\Local\\Programs\\Python\\Python310\\lib\\site-packages\\tensorflow\\python\\eager\\execute.py:54\u001b[0m, in \u001b[0;36mquick_execute\u001b[1;34m(op_name, num_outputs, inputs, attrs, ctx, name)\u001b[0m\n\u001b[0;32m     <a href='file:///c%3A/Users/ThinkPad/AppData/Local/Programs/Python/Python310/lib/site-packages/tensorflow/python/eager/execute.py?line=51'>52</a>\u001b[0m \u001b[39mtry\u001b[39;00m:\n\u001b[0;32m     <a href='file:///c%3A/Users/ThinkPad/AppData/Local/Programs/Python/Python310/lib/site-packages/tensorflow/python/eager/execute.py?line=52'>53</a>\u001b[0m   ctx\u001b[39m.\u001b[39mensure_initialized()\n\u001b[1;32m---> <a href='file:///c%3A/Users/ThinkPad/AppData/Local/Programs/Python/Python310/lib/site-packages/tensorflow/python/eager/execute.py?line=53'>54</a>\u001b[0m   tensors \u001b[39m=\u001b[39m pywrap_tfe\u001b[39m.\u001b[39mTFE_Py_Execute(ctx\u001b[39m.\u001b[39m_handle, device_name, op_name,\n\u001b[0;32m     <a href='file:///c%3A/Users/ThinkPad/AppData/Local/Programs/Python/Python310/lib/site-packages/tensorflow/python/eager/execute.py?line=54'>55</a>\u001b[0m                                       inputs, attrs, num_outputs)\n\u001b[0;32m     <a href='file:///c%3A/Users/ThinkPad/AppData/Local/Programs/Python/Python310/lib/site-packages/tensorflow/python/eager/execute.py?line=55'>56</a>\u001b[0m \u001b[39mexcept\u001b[39;00m core\u001b[39m.\u001b[39m_NotOkStatusException \u001b[39mas\u001b[39;00m e:\n\u001b[0;32m     <a href='file:///c%3A/Users/ThinkPad/AppData/Local/Programs/Python/Python310/lib/site-packages/tensorflow/python/eager/execute.py?line=56'>57</a>\u001b[0m   \u001b[39mif\u001b[39;00m name \u001b[39mis\u001b[39;00m \u001b[39mnot\u001b[39;00m \u001b[39mNone\u001b[39;00m:\n",
      "\u001b[1;31mInvalidArgumentError\u001b[0m: No OpKernel was registered to support Op 'CudnnRNNV2' used by {{node sequential/cu_dnnlstm/CudnnRNNV2}} with these attrs: [dropout=0, seed=0, T=DT_FLOAT, input_mode=\"linear_input\", direction=\"unidirectional\", rnn_mode=\"lstm\", is_training=true, seed2=0]\nRegistered devices: [CPU]\nRegistered kernels:\n  device='GPU'; T in [DT_HALF]\n  device='GPU'; T in [DT_FLOAT]\n  device='GPU'; T in [DT_DOUBLE]\n\n\t [[sequential/cu_dnnlstm/CudnnRNNV2]] [Op:__inference_train_function_4013]"
     ]
    }
   ],
   "source": [
    "model_params = {'epochs':30,\n",
    "                'batch_size':128,\n",
    "                'callbacks':callback_list,\n",
    "                'verbose':1,\n",
    "                'validation_split':0.2,\n",
    "                'validation_data':None,\n",
    "                'shuffle':True,\n",
    "                'initial_epoch':0,\n",
    "                'steps_per_epoch':None,\n",
    "                'validation_steps':None}\n",
    "\n",
    "model.fit(X,Y,\n",
    "          epochs = model_params['epochs'],\n",
    "          batch_size = model_params['batch_size'],\n",
    "          callbacks = model_params['callbacks'],\n",
    "          verbose = model_params['verbose'],\n",
    "          validation_split = model_params['validation_split'],\n",
    "          validation_data = model_params['validation_data'],\n",
    "          shuffle = model_params['shuffle'],\n",
    "          initial_epoch = model_params['initial_epoch'],\n",
    "          steps_per_epoch = model_params['steps_per_epoch'],\n",
    "          validation_steps = model_params['validation_steps'])"
   ]
  },
  {
   "cell_type": "code",
   "execution_count": null,
   "metadata": {},
   "outputs": [],
   "source": [
    "weights_file = './models/Weights-LSTM-improvement-004-2.49538-bigger.hdf5'\n",
    "model.load_weights(weights_file)\n",
    "model.compile(loss = 'categorical_crossentropy', optimizer = 'adam')"
   ]
  },
  {
   "cell_type": "code",
   "execution_count": null,
   "metadata": {},
   "outputs": [],
   "source": [
    "start = np.random.randint(0, len(data_X) - 1)\n",
    "pattern = data_X[start]\n",
    "print('Seed:')\n",
    "print(\"\\\"\",''.join([int_chars[value] for value in pattern]), \"\\\"\\n\")\n",
    "\n",
    "generated_characters = 300\n",
    "\n",
    "for i in range(generated_characters):\n",
    "    x = np.reshape(pattern, (1,len(pattern), 1))\n",
    "    x = x/float(n_vocab)\n",
    "    prediction = model.predict(x, verbose = 0)\n",
    "    index = np.argmax(prediction)\n",
    "    result = int_chars[index]\n",
    "    sys.stdout.write(result)\n",
    "    pattern.append(index)\n",
    "    pattern = pattern[1:len(pattern)]\n",
    "\n",
    "print('\\nDone')\n"
   ]
  }
 ],
 "metadata": {
  "interpreter": {
   "hash": "28d8b78478313e8d757ec011bbf01f8b55f8f1b36ef858a1159addb2c36d2282"
  },
  "kernelspec": {
   "display_name": "Python 3.9.12 64-bit (windows store)",
   "language": "python",
   "name": "python3"
  },
  "language_info": {
   "codemirror_mode": {
    "name": "ipython",
    "version": 3
   },
   "file_extension": ".py",
   "mimetype": "text/x-python",
   "name": "python",
   "nbconvert_exporter": "python",
   "pygments_lexer": "ipython3",
   "version": "3.10.4"
  },
  "orig_nbformat": 4
 },
 "nbformat": 4,
 "nbformat_minor": 2
}
